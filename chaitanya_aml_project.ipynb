{
  "cells": [
    {
      "cell_type": "markdown",
      "source": [
        "# **IMPORTING ALL LIBRARIES**"
      ],
      "metadata": {
        "id": "18WTf_aORMMo"
      }
    },
    {
      "cell_type": "code",
      "execution_count": 4,
      "metadata": {
        "id": "hT8JTkx-BCoH"
      },
      "outputs": [],
      "source": [
        "import pandas as pd\n",
        "import numpy as np\n",
        "import sklearn\n",
        "from sklearn.preprocessing import StandardScaler\n",
        "import seaborn as sns\n",
        "from sklearn.preprocessing import LabelEncoder\n",
        "from sklearn import decomposition\n",
        "from sklearn.neighbors import KNeighborsClassifier\n",
        "from sklearn.ensemble import RandomForestClassifier\n",
        "from sklearn.tree import DecisionTreeClassifier\n",
        "from sklearn.naive_bayes import MultinomialNB\n",
        "from sklearn import svm\n",
        "from sklearn.decomposition import PCA\n",
        "from sklearn.model_selection import train_test_split\n",
        "from collections import Counter\n",
        "from sklearn.model_selection import GridSearchCV\n",
        "from sklearn.pipeline import Pipeline\n",
        "from sklearn import metrics\n",
        "from sklearn.metrics import precision_score, recall_score, f1_score, make_scorer\n",
        "from sklearn.metrics import accuracy_score\n",
        "from sklearn import metrics\n",
        "import matplotlib.pyplot as plt\n",
        "%matplotlib inline\n"
      ]
    },
    {
      "cell_type": "markdown",
      "source": [
        "# **IMPORTING THE DATASETS**"
      ],
      "metadata": {
        "id": "_NbMBeOlRTHE"
      }
    },
    {
      "cell_type": "code",
      "execution_count": 5,
      "metadata": {
        "id": "WCLzpgMQChlj"
      },
      "outputs": [],
      "source": [
        "data_train = pd.read_excel('train_emt.xlsx')\n",
        "data_test = pd.read_excel('test_emt.xlsx')"
      ]
    },
    {
      "cell_type": "markdown",
      "source": [
        "# **EXPLORATORY DATA ANALYSIS**"
      ],
      "metadata": {
        "id": "Xsdpa7nHRaEY"
      }
    },
    {
      "cell_type": "code",
      "execution_count": 6,
      "metadata": {
        "colab": {
          "base_uri": "https://localhost:8080/",
          "height": 206
        },
        "id": "o3Cw5cdpChoI",
        "outputId": "19923751-d5cb-4db1-da97-ea48fa0e1697"
      },
      "outputs": [
        {
          "output_type": "execute_result",
          "data": {
            "text/plain": [
              "                                                desc  emotion\n",
              "0  i can go from feeling so hopeless to so damned...  sadness\n",
              "1   im grabbing a minute to post i feel greedy wrong    anger\n",
              "2  i am ever feeling nostalgic about the fireplac...     love\n",
              "3                               i am feeling grouchy    anger\n",
              "4  ive been feeling a little burdened lately wasn...  sadness"
            ],
            "text/html": [
              "\n",
              "  <div id=\"df-73365960-0577-4e04-9a94-eb597ca23823\">\n",
              "    <div class=\"colab-df-container\">\n",
              "      <div>\n",
              "<style scoped>\n",
              "    .dataframe tbody tr th:only-of-type {\n",
              "        vertical-align: middle;\n",
              "    }\n",
              "\n",
              "    .dataframe tbody tr th {\n",
              "        vertical-align: top;\n",
              "    }\n",
              "\n",
              "    .dataframe thead th {\n",
              "        text-align: right;\n",
              "    }\n",
              "</style>\n",
              "<table border=\"1\" class=\"dataframe\">\n",
              "  <thead>\n",
              "    <tr style=\"text-align: right;\">\n",
              "      <th></th>\n",
              "      <th>desc</th>\n",
              "      <th>emotion</th>\n",
              "    </tr>\n",
              "  </thead>\n",
              "  <tbody>\n",
              "    <tr>\n",
              "      <th>0</th>\n",
              "      <td>i can go from feeling so hopeless to so damned...</td>\n",
              "      <td>sadness</td>\n",
              "    </tr>\n",
              "    <tr>\n",
              "      <th>1</th>\n",
              "      <td>im grabbing a minute to post i feel greedy wrong</td>\n",
              "      <td>anger</td>\n",
              "    </tr>\n",
              "    <tr>\n",
              "      <th>2</th>\n",
              "      <td>i am ever feeling nostalgic about the fireplac...</td>\n",
              "      <td>love</td>\n",
              "    </tr>\n",
              "    <tr>\n",
              "      <th>3</th>\n",
              "      <td>i am feeling grouchy</td>\n",
              "      <td>anger</td>\n",
              "    </tr>\n",
              "    <tr>\n",
              "      <th>4</th>\n",
              "      <td>ive been feeling a little burdened lately wasn...</td>\n",
              "      <td>sadness</td>\n",
              "    </tr>\n",
              "  </tbody>\n",
              "</table>\n",
              "</div>\n",
              "      <button class=\"colab-df-convert\" onclick=\"convertToInteractive('df-73365960-0577-4e04-9a94-eb597ca23823')\"\n",
              "              title=\"Convert this dataframe to an interactive table.\"\n",
              "              style=\"display:none;\">\n",
              "        \n",
              "  <svg xmlns=\"http://www.w3.org/2000/svg\" height=\"24px\"viewBox=\"0 0 24 24\"\n",
              "       width=\"24px\">\n",
              "    <path d=\"M0 0h24v24H0V0z\" fill=\"none\"/>\n",
              "    <path d=\"M18.56 5.44l.94 2.06.94-2.06 2.06-.94-2.06-.94-.94-2.06-.94 2.06-2.06.94zm-11 1L8.5 8.5l.94-2.06 2.06-.94-2.06-.94L8.5 2.5l-.94 2.06-2.06.94zm10 10l.94 2.06.94-2.06 2.06-.94-2.06-.94-.94-2.06-.94 2.06-2.06.94z\"/><path d=\"M17.41 7.96l-1.37-1.37c-.4-.4-.92-.59-1.43-.59-.52 0-1.04.2-1.43.59L10.3 9.45l-7.72 7.72c-.78.78-.78 2.05 0 2.83L4 21.41c.39.39.9.59 1.41.59.51 0 1.02-.2 1.41-.59l7.78-7.78 2.81-2.81c.8-.78.8-2.07 0-2.86zM5.41 20L4 18.59l7.72-7.72 1.47 1.35L5.41 20z\"/>\n",
              "  </svg>\n",
              "      </button>\n",
              "      \n",
              "  <style>\n",
              "    .colab-df-container {\n",
              "      display:flex;\n",
              "      flex-wrap:wrap;\n",
              "      gap: 12px;\n",
              "    }\n",
              "\n",
              "    .colab-df-convert {\n",
              "      background-color: #E8F0FE;\n",
              "      border: none;\n",
              "      border-radius: 50%;\n",
              "      cursor: pointer;\n",
              "      display: none;\n",
              "      fill: #1967D2;\n",
              "      height: 32px;\n",
              "      padding: 0 0 0 0;\n",
              "      width: 32px;\n",
              "    }\n",
              "\n",
              "    .colab-df-convert:hover {\n",
              "      background-color: #E2EBFA;\n",
              "      box-shadow: 0px 1px 2px rgba(60, 64, 67, 0.3), 0px 1px 3px 1px rgba(60, 64, 67, 0.15);\n",
              "      fill: #174EA6;\n",
              "    }\n",
              "\n",
              "    [theme=dark] .colab-df-convert {\n",
              "      background-color: #3B4455;\n",
              "      fill: #D2E3FC;\n",
              "    }\n",
              "\n",
              "    [theme=dark] .colab-df-convert:hover {\n",
              "      background-color: #434B5C;\n",
              "      box-shadow: 0px 1px 3px 1px rgba(0, 0, 0, 0.15);\n",
              "      filter: drop-shadow(0px 1px 2px rgba(0, 0, 0, 0.3));\n",
              "      fill: #FFFFFF;\n",
              "    }\n",
              "  </style>\n",
              "\n",
              "      <script>\n",
              "        const buttonEl =\n",
              "          document.querySelector('#df-73365960-0577-4e04-9a94-eb597ca23823 button.colab-df-convert');\n",
              "        buttonEl.style.display =\n",
              "          google.colab.kernel.accessAllowed ? 'block' : 'none';\n",
              "\n",
              "        async function convertToInteractive(key) {\n",
              "          const element = document.querySelector('#df-73365960-0577-4e04-9a94-eb597ca23823');\n",
              "          const dataTable =\n",
              "            await google.colab.kernel.invokeFunction('convertToInteractive',\n",
              "                                                     [key], {});\n",
              "          if (!dataTable) return;\n",
              "\n",
              "          const docLinkHtml = 'Like what you see? Visit the ' +\n",
              "            '<a target=\"_blank\" href=https://colab.research.google.com/notebooks/data_table.ipynb>data table notebook</a>'\n",
              "            + ' to learn more about interactive tables.';\n",
              "          element.innerHTML = '';\n",
              "          dataTable['output_type'] = 'display_data';\n",
              "          await google.colab.output.renderOutput(dataTable, element);\n",
              "          const docLink = document.createElement('div');\n",
              "          docLink.innerHTML = docLinkHtml;\n",
              "          element.appendChild(docLink);\n",
              "        }\n",
              "      </script>\n",
              "    </div>\n",
              "  </div>\n",
              "  "
            ]
          },
          "metadata": {},
          "execution_count": 6
        }
      ],
      "source": [
        "data_train.head(5)"
      ]
    },
    {
      "cell_type": "code",
      "execution_count": 7,
      "metadata": {
        "colab": {
          "base_uri": "https://localhost:8080/"
        },
        "id": "RISekTwSsrFq",
        "outputId": "55e197fa-0b32-4e29-e7e9-7134b25c55fa"
      },
      "outputs": [
        {
          "output_type": "execute_result",
          "data": {
            "text/plain": [
              "array(['sadness', 'anger', 'love', 'surprise', 'fear', 'joy'],\n",
              "      dtype=object)"
            ]
          },
          "metadata": {},
          "execution_count": 7
        }
      ],
      "source": [
        "data_train['emotion'].unique()"
      ]
    },
    {
      "cell_type": "code",
      "execution_count": 8,
      "metadata": {
        "colab": {
          "base_uri": "https://localhost:8080/"
        },
        "id": "3tHoMOuzviv7",
        "outputId": "cbc920e4-ff86-4c25-e9e8-ab12907f99e7"
      },
      "outputs": [
        {
          "output_type": "stream",
          "name": "stdout",
          "text": [
            "<class 'pandas.core.frame.DataFrame'>\n",
            "RangeIndex: 15999 entries, 0 to 15998\n",
            "Data columns (total 2 columns):\n",
            " #   Column   Non-Null Count  Dtype \n",
            "---  ------   --------------  ----- \n",
            " 0   desc     15999 non-null  object\n",
            " 1   emotion  15999 non-null  object\n",
            "dtypes: object(2)\n",
            "memory usage: 250.1+ KB\n"
          ]
        }
      ],
      "source": [
        "data_train.info()"
      ]
    },
    {
      "cell_type": "code",
      "execution_count": 9,
      "metadata": {
        "colab": {
          "base_uri": "https://localhost:8080/",
          "height": 423
        },
        "id": "5dSxf5h3vmP3",
        "outputId": "7b03e1aa-00b6-4a8a-9726-74aa8b6950f8"
      },
      "outputs": [
        {
          "output_type": "execute_result",
          "data": {
            "text/plain": [
              "                                                    desc  emotion\n",
              "0      i can go from feeling so hopeless to so damned...  sadness\n",
              "1       im grabbing a minute to post i feel greedy wrong    anger\n",
              "2      i am ever feeling nostalgic about the fireplac...     love\n",
              "3                                   i am feeling grouchy    anger\n",
              "4      ive been feeling a little burdened lately wasn...  sadness\n",
              "...                                                  ...      ...\n",
              "15994  i just had a very brief time in the beanbag an...  sadness\n",
              "15995  i am now turning and i feel pathetic that i am...  sadness\n",
              "15996                     i feel strong and good overall      joy\n",
              "15997  i feel like this was such a rude comment and i...    anger\n",
              "15998  i know a lot but i feel so stupid because i ca...  sadness\n",
              "\n",
              "[15999 rows x 2 columns]"
            ],
            "text/html": [
              "\n",
              "  <div id=\"df-4386f2e2-ddd8-4f0e-9b05-56a179537d7d\">\n",
              "    <div class=\"colab-df-container\">\n",
              "      <div>\n",
              "<style scoped>\n",
              "    .dataframe tbody tr th:only-of-type {\n",
              "        vertical-align: middle;\n",
              "    }\n",
              "\n",
              "    .dataframe tbody tr th {\n",
              "        vertical-align: top;\n",
              "    }\n",
              "\n",
              "    .dataframe thead th {\n",
              "        text-align: right;\n",
              "    }\n",
              "</style>\n",
              "<table border=\"1\" class=\"dataframe\">\n",
              "  <thead>\n",
              "    <tr style=\"text-align: right;\">\n",
              "      <th></th>\n",
              "      <th>desc</th>\n",
              "      <th>emotion</th>\n",
              "    </tr>\n",
              "  </thead>\n",
              "  <tbody>\n",
              "    <tr>\n",
              "      <th>0</th>\n",
              "      <td>i can go from feeling so hopeless to so damned...</td>\n",
              "      <td>sadness</td>\n",
              "    </tr>\n",
              "    <tr>\n",
              "      <th>1</th>\n",
              "      <td>im grabbing a minute to post i feel greedy wrong</td>\n",
              "      <td>anger</td>\n",
              "    </tr>\n",
              "    <tr>\n",
              "      <th>2</th>\n",
              "      <td>i am ever feeling nostalgic about the fireplac...</td>\n",
              "      <td>love</td>\n",
              "    </tr>\n",
              "    <tr>\n",
              "      <th>3</th>\n",
              "      <td>i am feeling grouchy</td>\n",
              "      <td>anger</td>\n",
              "    </tr>\n",
              "    <tr>\n",
              "      <th>4</th>\n",
              "      <td>ive been feeling a little burdened lately wasn...</td>\n",
              "      <td>sadness</td>\n",
              "    </tr>\n",
              "    <tr>\n",
              "      <th>...</th>\n",
              "      <td>...</td>\n",
              "      <td>...</td>\n",
              "    </tr>\n",
              "    <tr>\n",
              "      <th>15994</th>\n",
              "      <td>i just had a very brief time in the beanbag an...</td>\n",
              "      <td>sadness</td>\n",
              "    </tr>\n",
              "    <tr>\n",
              "      <th>15995</th>\n",
              "      <td>i am now turning and i feel pathetic that i am...</td>\n",
              "      <td>sadness</td>\n",
              "    </tr>\n",
              "    <tr>\n",
              "      <th>15996</th>\n",
              "      <td>i feel strong and good overall</td>\n",
              "      <td>joy</td>\n",
              "    </tr>\n",
              "    <tr>\n",
              "      <th>15997</th>\n",
              "      <td>i feel like this was such a rude comment and i...</td>\n",
              "      <td>anger</td>\n",
              "    </tr>\n",
              "    <tr>\n",
              "      <th>15998</th>\n",
              "      <td>i know a lot but i feel so stupid because i ca...</td>\n",
              "      <td>sadness</td>\n",
              "    </tr>\n",
              "  </tbody>\n",
              "</table>\n",
              "<p>15999 rows × 2 columns</p>\n",
              "</div>\n",
              "      <button class=\"colab-df-convert\" onclick=\"convertToInteractive('df-4386f2e2-ddd8-4f0e-9b05-56a179537d7d')\"\n",
              "              title=\"Convert this dataframe to an interactive table.\"\n",
              "              style=\"display:none;\">\n",
              "        \n",
              "  <svg xmlns=\"http://www.w3.org/2000/svg\" height=\"24px\"viewBox=\"0 0 24 24\"\n",
              "       width=\"24px\">\n",
              "    <path d=\"M0 0h24v24H0V0z\" fill=\"none\"/>\n",
              "    <path d=\"M18.56 5.44l.94 2.06.94-2.06 2.06-.94-2.06-.94-.94-2.06-.94 2.06-2.06.94zm-11 1L8.5 8.5l.94-2.06 2.06-.94-2.06-.94L8.5 2.5l-.94 2.06-2.06.94zm10 10l.94 2.06.94-2.06 2.06-.94-2.06-.94-.94-2.06-.94 2.06-2.06.94z\"/><path d=\"M17.41 7.96l-1.37-1.37c-.4-.4-.92-.59-1.43-.59-.52 0-1.04.2-1.43.59L10.3 9.45l-7.72 7.72c-.78.78-.78 2.05 0 2.83L4 21.41c.39.39.9.59 1.41.59.51 0 1.02-.2 1.41-.59l7.78-7.78 2.81-2.81c.8-.78.8-2.07 0-2.86zM5.41 20L4 18.59l7.72-7.72 1.47 1.35L5.41 20z\"/>\n",
              "  </svg>\n",
              "      </button>\n",
              "      \n",
              "  <style>\n",
              "    .colab-df-container {\n",
              "      display:flex;\n",
              "      flex-wrap:wrap;\n",
              "      gap: 12px;\n",
              "    }\n",
              "\n",
              "    .colab-df-convert {\n",
              "      background-color: #E8F0FE;\n",
              "      border: none;\n",
              "      border-radius: 50%;\n",
              "      cursor: pointer;\n",
              "      display: none;\n",
              "      fill: #1967D2;\n",
              "      height: 32px;\n",
              "      padding: 0 0 0 0;\n",
              "      width: 32px;\n",
              "    }\n",
              "\n",
              "    .colab-df-convert:hover {\n",
              "      background-color: #E2EBFA;\n",
              "      box-shadow: 0px 1px 2px rgba(60, 64, 67, 0.3), 0px 1px 3px 1px rgba(60, 64, 67, 0.15);\n",
              "      fill: #174EA6;\n",
              "    }\n",
              "\n",
              "    [theme=dark] .colab-df-convert {\n",
              "      background-color: #3B4455;\n",
              "      fill: #D2E3FC;\n",
              "    }\n",
              "\n",
              "    [theme=dark] .colab-df-convert:hover {\n",
              "      background-color: #434B5C;\n",
              "      box-shadow: 0px 1px 3px 1px rgba(0, 0, 0, 0.15);\n",
              "      filter: drop-shadow(0px 1px 2px rgba(0, 0, 0, 0.3));\n",
              "      fill: #FFFFFF;\n",
              "    }\n",
              "  </style>\n",
              "\n",
              "      <script>\n",
              "        const buttonEl =\n",
              "          document.querySelector('#df-4386f2e2-ddd8-4f0e-9b05-56a179537d7d button.colab-df-convert');\n",
              "        buttonEl.style.display =\n",
              "          google.colab.kernel.accessAllowed ? 'block' : 'none';\n",
              "\n",
              "        async function convertToInteractive(key) {\n",
              "          const element = document.querySelector('#df-4386f2e2-ddd8-4f0e-9b05-56a179537d7d');\n",
              "          const dataTable =\n",
              "            await google.colab.kernel.invokeFunction('convertToInteractive',\n",
              "                                                     [key], {});\n",
              "          if (!dataTable) return;\n",
              "\n",
              "          const docLinkHtml = 'Like what you see? Visit the ' +\n",
              "            '<a target=\"_blank\" href=https://colab.research.google.com/notebooks/data_table.ipynb>data table notebook</a>'\n",
              "            + ' to learn more about interactive tables.';\n",
              "          element.innerHTML = '';\n",
              "          dataTable['output_type'] = 'display_data';\n",
              "          await google.colab.output.renderOutput(dataTable, element);\n",
              "          const docLink = document.createElement('div');\n",
              "          docLink.innerHTML = docLinkHtml;\n",
              "          element.appendChild(docLink);\n",
              "        }\n",
              "      </script>\n",
              "    </div>\n",
              "  </div>\n",
              "  "
            ]
          },
          "metadata": {},
          "execution_count": 9
        }
      ],
      "source": [
        "data_train"
      ]
    },
    {
      "cell_type": "code",
      "execution_count": 10,
      "metadata": {
        "colab": {
          "base_uri": "https://localhost:8080/",
          "height": 352
        },
        "id": "hcBLcJWGwSjX",
        "outputId": "a17a6cd4-6c5f-49d8-fd25-d70d4d9ca539"
      },
      "outputs": [
        {
          "output_type": "stream",
          "name": "stderr",
          "text": [
            "/usr/local/lib/python3.7/dist-packages/seaborn/_decorators.py:43: FutureWarning: Pass the following variable as a keyword arg: x. From version 0.12, the only valid positional argument will be `data`, and passing other arguments without an explicit keyword will result in an error or misinterpretation.\n",
            "  FutureWarning\n"
          ]
        },
        {
          "output_type": "execute_result",
          "data": {
            "text/plain": [
              "<matplotlib.axes._subplots.AxesSubplot at 0x7f4b389d45d0>"
            ]
          },
          "metadata": {},
          "execution_count": 10
        },
        {
          "output_type": "display_data",
          "data": {
            "text/plain": [
              "<Figure size 432x288 with 1 Axes>"
            ],
            "image/png": "[encoded data removed]"
          },
          "metadata": {
            "needs_background": "light"
          }
        }
      ],
      "source": [
        "sns.countplot(data_train['emotion'],order = data_train['emotion'].value_counts(normalize=True).index)"
      ]
    },
    {
      "cell_type": "code",
      "execution_count": 11,
      "metadata": {
        "colab": {
          "base_uri": "https://localhost:8080/",
          "height": 309
        },
        "id": "bEvTBdNOi01E",
        "outputId": "61e711cb-88a4-4ae2-fa1e-33eccc9b8585"
      },
      "outputs": [
        {
          "output_type": "execute_result",
          "data": {
            "text/plain": [
              "<matplotlib.axes._subplots.AxesSubplot at 0x7f4b3884d250>"
            ]
          },
          "metadata": {},
          "execution_count": 11
        },
        {
          "output_type": "display_data",
          "data": {
            "text/plain": [
              "<Figure size 432x288 with 2 Axes>"
            ],
            "image/png": "[encoded data removed]"
          },
          "metadata": {
            "needs_background": "light"
          }
        }
      ],
      "source": [
        "sns.heatmap(data_train.isna().transpose(),cmap=\"YlGnBu\",cbar_kws={'label': 'Missing Data'})"
      ]
    },
    {
      "cell_type": "code",
      "execution_count": 12,
      "metadata": {
        "id": "_ns_hwmrmDaP"
      },
      "outputs": [],
      "source": [
        "data_train['desc_len'] = data_train['desc'].astype(str).apply(len)\n",
        "data_train['desc_WC'] = data_train['desc'].apply(lambda x: len(str(x).split()))"
      ]
    },
    {
      "cell_type": "code",
      "execution_count": 13,
      "metadata": {
        "colab": {
          "base_uri": "https://localhost:8080/",
          "height": 334
        },
        "id": "kcuQM_d6mNrP",
        "outputId": "8aa69c77-aea6-4b97-9e0b-268e85dfa02a"
      },
      "outputs": [
        {
          "output_type": "stream",
          "name": "stderr",
          "text": [
            "/usr/local/lib/python3.7/dist-packages/seaborn/distributions.py:2619: FutureWarning: `distplot` is a deprecated function and will be removed in a future version. Please adapt your code to use either `displot` (a figure-level function with similar flexibility) or `histplot` (an axes-level function for histograms).\n",
            "  warnings.warn(msg, FutureWarning)\n"
          ]
        },
        {
          "output_type": "display_data",
          "data": {
            "text/plain": [
              "<Figure size 432x288 with 1 Axes>"
            ],
            "image/png": "[encoded data removed]"
          },
          "metadata": {
            "needs_background": "light"
          }
        }
      ],
      "source": [
        "sns.distplot(data_train['desc_len'])\n",
        "plt.xlim([0, 512]);\n",
        "plt.xlabel('Description Length');"
      ]
    },
    {
      "cell_type": "code",
      "execution_count": 14,
      "metadata": {
        "colab": {
          "base_uri": "https://localhost:8080/",
          "height": 423
        },
        "id": "NT90L1tbPuQc",
        "outputId": "e9b8ea52-5760-4f70-d0d9-82fed25c9573"
      },
      "outputs": [
        {
          "output_type": "execute_result",
          "data": {
            "text/plain": [
              "                                                    desc  emotion  desc_len  \\\n",
              "0      i can go from feeling so hopeless to so damned...  sadness       108   \n",
              "1       im grabbing a minute to post i feel greedy wrong    anger        48   \n",
              "2      i am ever feeling nostalgic about the fireplac...     love        92   \n",
              "3                                   i am feeling grouchy    anger        20   \n",
              "4      ive been feeling a little burdened lately wasn...  sadness        65   \n",
              "...                                                  ...      ...       ...   \n",
              "15994  i just had a very brief time in the beanbag an...  sadness       101   \n",
              "15995  i am now turning and i feel pathetic that i am...  sadness       102   \n",
              "15996                     i feel strong and good overall      joy        30   \n",
              "15997  i feel like this was such a rude comment and i...    anger        59   \n",
              "15998  i know a lot but i feel so stupid because i ca...  sadness        62   \n",
              "\n",
              "       desc_WC  \n",
              "0           21  \n",
              "1           10  \n",
              "2           18  \n",
              "3            4  \n",
              "4           12  \n",
              "...        ...  \n",
              "15994       24  \n",
              "15995       20  \n",
              "15996        6  \n",
              "15997       14  \n",
              "15998       15  \n",
              "\n",
              "[15999 rows x 4 columns]"
            ],
            "text/html": [
              "\n",
              "  <div id=\"df-457ec554-0790-4c65-8f85-535b26021a21\">\n",
              "    <div class=\"colab-df-container\">\n",
              "      <div>\n",
              "<style scoped>\n",
              "    .dataframe tbody tr th:only-of-type {\n",
              "        vertical-align: middle;\n",
              "    }\n",
              "\n",
              "    .dataframe tbody tr th {\n",
              "        vertical-align: top;\n",
              "    }\n",
              "\n",
              "    .dataframe thead th {\n",
              "        text-align: right;\n",
              "    }\n",
              "</style>\n",
              "<table border=\"1\" class=\"dataframe\">\n",
              "  <thead>\n",
              "    <tr style=\"text-align: right;\">\n",
              "      <th></th>\n",
              "      <th>desc</th>\n",
              "      <th>emotion</th>\n",
              "      <th>desc_len</th>\n",
              "      <th>desc_WC</th>\n",
              "    </tr>\n",
              "  </thead>\n",
              "  <tbody>\n",
              "    <tr>\n",
              "      <th>0</th>\n",
              "      <td>i can go from feeling so hopeless to so damned...</td>\n",
              "      <td>sadness</td>\n",
              "      <td>108</td>\n",
              "      <td>21</td>\n",
              "    </tr>\n",
              "    <tr>\n",
              "      <th>1</th>\n",
              "      <td>im grabbing a minute to post i feel greedy wrong</td>\n",
              "      <td>anger</td>\n",
              "      <td>48</td>\n",
              "      <td>10</td>\n",
              "    </tr>\n",
              "    <tr>\n",
              "      <th>2</th>\n",
              "      <td>i am ever feeling nostalgic about the fireplac...</td>\n",
              "      <td>love</td>\n",
              "      <td>92</td>\n",
              "      <td>18</td>\n",
              "    </tr>\n",
              "    <tr>\n",
              "      <th>3</th>\n",
              "      <td>i am feeling grouchy</td>\n",
              "      <td>anger</td>\n",
              "      <td>20</td>\n",
              "      <td>4</td>\n",
              "    </tr>\n",
              "    <tr>\n",
              "      <th>4</th>\n",
              "      <td>ive been feeling a little burdened lately wasn...</td>\n",
              "      <td>sadness</td>\n",
              "      <td>65</td>\n",
              "      <td>12</td>\n",
              "    </tr>\n",
              "    <tr>\n",
              "      <th>...</th>\n",
              "      <td>...</td>\n",
              "      <td>...</td>\n",
              "      <td>...</td>\n",
              "      <td>...</td>\n",
              "    </tr>\n",
              "    <tr>\n",
              "      <th>15994</th>\n",
              "      <td>i just had a very brief time in the beanbag an...</td>\n",
              "      <td>sadness</td>\n",
              "      <td>101</td>\n",
              "      <td>24</td>\n",
              "    </tr>\n",
              "    <tr>\n",
              "      <th>15995</th>\n",
              "      <td>i am now turning and i feel pathetic that i am...</td>\n",
              "      <td>sadness</td>\n",
              "      <td>102</td>\n",
              "      <td>20</td>\n",
              "    </tr>\n",
              "    <tr>\n",
              "      <th>15996</th>\n",
              "      <td>i feel strong and good overall</td>\n",
              "      <td>joy</td>\n",
              "      <td>30</td>\n",
              "      <td>6</td>\n",
              "    </tr>\n",
              "    <tr>\n",
              "      <th>15997</th>\n",
              "      <td>i feel like this was such a rude comment and i...</td>\n",
              "      <td>anger</td>\n",
              "      <td>59</td>\n",
              "      <td>14</td>\n",
              "    </tr>\n",
              "    <tr>\n",
              "      <th>15998</th>\n",
              "      <td>i know a lot but i feel so stupid because i ca...</td>\n",
              "      <td>sadness</td>\n",
              "      <td>62</td>\n",
              "      <td>15</td>\n",
              "    </tr>\n",
              "  </tbody>\n",
              "</table>\n",
              "<p>15999 rows × 4 columns</p>\n",
              "</div>\n",
              "      <button class=\"colab-df-convert\" onclick=\"convertToInteractive('df-457ec554-0790-4c65-8f85-535b26021a21')\"\n",
              "              title=\"Convert this dataframe to an interactive table.\"\n",
              "              style=\"display:none;\">\n",
              "        \n",
              "  <svg xmlns=\"http://www.w3.org/2000/svg\" height=\"24px\"viewBox=\"0 0 24 24\"\n",
              "       width=\"24px\">\n",
              "    <path d=\"M0 0h24v24H0V0z\" fill=\"none\"/>\n",
              "    <path d=\"M18.56 5.44l.94 2.06.94-2.06 2.06-.94-2.06-.94-.94-2.06-.94 2.06-2.06.94zm-11 1L8.5 8.5l.94-2.06 2.06-.94-2.06-.94L8.5 2.5l-.94 2.06-2.06.94zm10 10l.94 2.06.94-2.06 2.06-.94-2.06-.94-.94-2.06-.94 2.06-2.06.94z\"/><path d=\"M17.41 7.96l-1.37-1.37c-.4-.4-.92-.59-1.43-.59-.52 0-1.04.2-1.43.59L10.3 9.45l-7.72 7.72c-.78.78-.78 2.05 0 2.83L4 21.41c.39.39.9.59 1.41.59.51 0 1.02-.2 1.41-.59l7.78-7.78 2.81-2.81c.8-.78.8-2.07 0-2.86zM5.41 20L4 18.59l7.72-7.72 1.47 1.35L5.41 20z\"/>\n",
              "  </svg>\n",
              "      </button>\n",
              "      \n",
              "  <style>\n",
              "    .colab-df-container {\n",
              "      display:flex;\n",
              "      flex-wrap:wrap;\n",
              "      gap: 12px;\n",
              "    }\n",
              "\n",
              "    .colab-df-convert {\n",
              "      background-color: #E8F0FE;\n",
              "      border: none;\n",
              "      border-radius: 50%;\n",
              "      cursor: pointer;\n",
              "      display: none;\n",
              "      fill: #1967D2;\n",
              "      height: 32px;\n",
              "      padding: 0 0 0 0;\n",
              "      width: 32px;\n",
              "    }\n",
              "\n",
              "    .colab-df-convert:hover {\n",
              "      background-color: #E2EBFA;\n",
              "      box-shadow: 0px 1px 2px rgba(60, 64, 67, 0.3), 0px 1px 3px 1px rgba(60, 64, 67, 0.15);\n",
              "      fill: #174EA6;\n",
              "    }\n",
              "\n",
              "    [theme=dark] .colab-df-convert {\n",
              "      background-color: #3B4455;\n",
              "      fill: #D2E3FC;\n",
              "    }\n",
              "\n",
              "    [theme=dark] .colab-df-convert:hover {\n",
              "      background-color: #434B5C;\n",
              "      box-shadow: 0px 1px 3px 1px rgba(0, 0, 0, 0.15);\n",
              "      filter: drop-shadow(0px 1px 2px rgba(0, 0, 0, 0.3));\n",
              "      fill: #FFFFFF;\n",
              "    }\n",
              "  </style>\n",
              "\n",
              "      <script>\n",
              "        const buttonEl =\n",
              "          document.querySelector('#df-457ec554-0790-4c65-8f85-535b26021a21 button.colab-df-convert');\n",
              "        buttonEl.style.display =\n",
              "          google.colab.kernel.accessAllowed ? 'block' : 'none';\n",
              "\n",
              "        async function convertToInteractive(key) {\n",
              "          const element = document.querySelector('#df-457ec554-0790-4c65-8f85-535b26021a21');\n",
              "          const dataTable =\n",
              "            await google.colab.kernel.invokeFunction('convertToInteractive',\n",
              "                                                     [key], {});\n",
              "          if (!dataTable) return;\n",
              "\n",
              "          const docLinkHtml = 'Like what you see? Visit the ' +\n",
              "            '<a target=\"_blank\" href=https://colab.research.google.com/notebooks/data_table.ipynb>data table notebook</a>'\n",
              "            + ' to learn more about interactive tables.';\n",
              "          element.innerHTML = '';\n",
              "          dataTable['output_type'] = 'display_data';\n",
              "          await google.colab.output.renderOutput(dataTable, element);\n",
              "          const docLink = document.createElement('div');\n",
              "          docLink.innerHTML = docLinkHtml;\n",
              "          element.appendChild(docLink);\n",
              "        }\n",
              "      </script>\n",
              "    </div>\n",
              "  </div>\n",
              "  "
            ]
          },
          "metadata": {},
          "execution_count": 14
        }
      ],
      "source": [
        "data_train"
      ]
    },
    {
      "cell_type": "code",
      "execution_count": 15,
      "metadata": {
        "colab": {
          "base_uri": "https://localhost:8080/",
          "height": 206
        },
        "id": "4tmbXazzwSpz",
        "outputId": "bf14b072-33c9-4bef-9977-e1f61c3c7cc9"
      },
      "outputs": [
        {
          "output_type": "execute_result",
          "data": {
            "text/plain": [
              "                                                desc  emotion\n",
              "0          im updating my blog because i feel shitty  sadness\n",
              "1  i never make her separate from me because i do...  sadness\n",
              "2  i left with my bouquet of red and yellow tulip...      joy\n",
              "3    i was feeling a little vain when i did this one  sadness\n",
              "4  i cant walk into a shop anywhere where i do no...     fear"
            ],
            "text/html": [
              "\n",
              "  <div id=\"df-868d8fb9-48af-4829-ab05-59d703d4509e\">\n",
              "    <div class=\"colab-df-container\">\n",
              "      <div>\n",
              "<style scoped>\n",
              "    .dataframe tbody tr th:only-of-type {\n",
              "        vertical-align: middle;\n",
              "    }\n",
              "\n",
              "    .dataframe tbody tr th {\n",
              "        vertical-align: top;\n",
              "    }\n",
              "\n",
              "    .dataframe thead th {\n",
              "        text-align: right;\n",
              "    }\n",
              "</style>\n",
              "<table border=\"1\" class=\"dataframe\">\n",
              "  <thead>\n",
              "    <tr style=\"text-align: right;\">\n",
              "      <th></th>\n",
              "      <th>desc</th>\n",
              "      <th>emotion</th>\n",
              "    </tr>\n",
              "  </thead>\n",
              "  <tbody>\n",
              "    <tr>\n",
              "      <th>0</th>\n",
              "      <td>im updating my blog because i feel shitty</td>\n",
              "      <td>sadness</td>\n",
              "    </tr>\n",
              "    <tr>\n",
              "      <th>1</th>\n",
              "      <td>i never make her separate from me because i do...</td>\n",
              "      <td>sadness</td>\n",
              "    </tr>\n",
              "    <tr>\n",
              "      <th>2</th>\n",
              "      <td>i left with my bouquet of red and yellow tulip...</td>\n",
              "      <td>joy</td>\n",
              "    </tr>\n",
              "    <tr>\n",
              "      <th>3</th>\n",
              "      <td>i was feeling a little vain when i did this one</td>\n",
              "      <td>sadness</td>\n",
              "    </tr>\n",
              "    <tr>\n",
              "      <th>4</th>\n",
              "      <td>i cant walk into a shop anywhere where i do no...</td>\n",
              "      <td>fear</td>\n",
              "    </tr>\n",
              "  </tbody>\n",
              "</table>\n",
              "</div>\n",
              "      <button class=\"colab-df-convert\" onclick=\"convertToInteractive('df-868d8fb9-48af-4829-ab05-59d703d4509e')\"\n",
              "              title=\"Convert this dataframe to an interactive table.\"\n",
              "              style=\"display:none;\">\n",
              "        \n",
              "  <svg xmlns=\"http://www.w3.org/2000/svg\" height=\"24px\"viewBox=\"0 0 24 24\"\n",
              "       width=\"24px\">\n",
              "    <path d=\"M0 0h24v24H0V0z\" fill=\"none\"/>\n",
              "    <path d=\"M18.56 5.44l.94 2.06.94-2.06 2.06-.94-2.06-.94-.94-2.06-.94 2.06-2.06.94zm-11 1L8.5 8.5l.94-2.06 2.06-.94-2.06-.94L8.5 2.5l-.94 2.06-2.06.94zm10 10l.94 2.06.94-2.06 2.06-.94-2.06-.94-.94-2.06-.94 2.06-2.06.94z\"/><path d=\"M17.41 7.96l-1.37-1.37c-.4-.4-.92-.59-1.43-.59-.52 0-1.04.2-1.43.59L10.3 9.45l-7.72 7.72c-.78.78-.78 2.05 0 2.83L4 21.41c.39.39.9.59 1.41.59.51 0 1.02-.2 1.41-.59l7.78-7.78 2.81-2.81c.8-.78.8-2.07 0-2.86zM5.41 20L4 18.59l7.72-7.72 1.47 1.35L5.41 20z\"/>\n",
              "  </svg>\n",
              "      </button>\n",
              "      \n",
              "  <style>\n",
              "    .colab-df-container {\n",
              "      display:flex;\n",
              "      flex-wrap:wrap;\n",
              "      gap: 12px;\n",
              "    }\n",
              "\n",
              "    .colab-df-convert {\n",
              "      background-color: #E8F0FE;\n",
              "      border: none;\n",
              "      border-radius: 50%;\n",
              "      cursor: pointer;\n",
              "      display: none;\n",
              "      fill: #1967D2;\n",
              "      height: 32px;\n",
              "      padding: 0 0 0 0;\n",
              "      width: 32px;\n",
              "    }\n",
              "\n",
              "    .colab-df-convert:hover {\n",
              "      background-color: #E2EBFA;\n",
              "      box-shadow: 0px 1px 2px rgba(60, 64, 67, 0.3), 0px 1px 3px 1px rgba(60, 64, 67, 0.15);\n",
              "      fill: #174EA6;\n",
              "    }\n",
              "\n",
              "    [theme=dark] .colab-df-convert {\n",
              "      background-color: #3B4455;\n",
              "      fill: #D2E3FC;\n",
              "    }\n",
              "\n",
              "    [theme=dark] .colab-df-convert:hover {\n",
              "      background-color: #434B5C;\n",
              "      box-shadow: 0px 1px 3px 1px rgba(0, 0, 0, 0.15);\n",
              "      filter: drop-shadow(0px 1px 2px rgba(0, 0, 0, 0.3));\n",
              "      fill: #FFFFFF;\n",
              "    }\n",
              "  </style>\n",
              "\n",
              "      <script>\n",
              "        const buttonEl =\n",
              "          document.querySelector('#df-868d8fb9-48af-4829-ab05-59d703d4509e button.colab-df-convert');\n",
              "        buttonEl.style.display =\n",
              "          google.colab.kernel.accessAllowed ? 'block' : 'none';\n",
              "\n",
              "        async function convertToInteractive(key) {\n",
              "          const element = document.querySelector('#df-868d8fb9-48af-4829-ab05-59d703d4509e');\n",
              "          const dataTable =\n",
              "            await google.colab.kernel.invokeFunction('convertToInteractive',\n",
              "                                                     [key], {});\n",
              "          if (!dataTable) return;\n",
              "\n",
              "          const docLinkHtml = 'Like what you see? Visit the ' +\n",
              "            '<a target=\"_blank\" href=https://colab.research.google.com/notebooks/data_table.ipynb>data table notebook</a>'\n",
              "            + ' to learn more about interactive tables.';\n",
              "          element.innerHTML = '';\n",
              "          dataTable['output_type'] = 'display_data';\n",
              "          await google.colab.output.renderOutput(dataTable, element);\n",
              "          const docLink = document.createElement('div');\n",
              "          docLink.innerHTML = docLinkHtml;\n",
              "          element.appendChild(docLink);\n",
              "        }\n",
              "      </script>\n",
              "    </div>\n",
              "  </div>\n",
              "  "
            ]
          },
          "metadata": {},
          "execution_count": 15
        }
      ],
      "source": [
        "data_test.head(5)"
      ]
    },
    {
      "cell_type": "code",
      "execution_count": 16,
      "metadata": {
        "colab": {
          "base_uri": "https://localhost:8080/"
        },
        "id": "fqwdf6-ZwSxK",
        "outputId": "6b877612-49dc-4d36-94dd-977f5fce054c"
      },
      "outputs": [
        {
          "output_type": "execute_result",
          "data": {
            "text/plain": [
              "array(['sadness', 'joy', 'fear', 'anger', 'love', 'surprise'],\n",
              "      dtype=object)"
            ]
          },
          "metadata": {},
          "execution_count": 16
        }
      ],
      "source": [
        "data_test['emotion'].unique()"
      ]
    },
    {
      "cell_type": "code",
      "execution_count": 17,
      "metadata": {
        "colab": {
          "base_uri": "https://localhost:8080/"
        },
        "id": "9XrWItjViD4w",
        "outputId": "74e99706-3484-41a8-8721-e432ab5aff96"
      },
      "outputs": [
        {
          "output_type": "stream",
          "name": "stdout",
          "text": [
            "<class 'pandas.core.frame.DataFrame'>\n",
            "RangeIndex: 1999 entries, 0 to 1998\n",
            "Data columns (total 2 columns):\n",
            " #   Column   Non-Null Count  Dtype \n",
            "---  ------   --------------  ----- \n",
            " 0   desc     1999 non-null   object\n",
            " 1   emotion  1999 non-null   object\n",
            "dtypes: object(2)\n",
            "memory usage: 31.4+ KB\n"
          ]
        }
      ],
      "source": [
        "data_test.info()"
      ]
    },
    {
      "cell_type": "code",
      "execution_count": 18,
      "metadata": {
        "colab": {
          "base_uri": "https://localhost:8080/",
          "height": 423
        },
        "id": "ZqQO5BSkiD7E",
        "outputId": "9d3a9bad-e535-41bc-edf0-ec220a4f12e8"
      },
      "outputs": [
        {
          "output_type": "execute_result",
          "data": {
            "text/plain": [
              "                                                   desc  emotion\n",
              "0             im updating my blog because i feel shitty  sadness\n",
              "1     i never make her separate from me because i do...  sadness\n",
              "2     i left with my bouquet of red and yellow tulip...      joy\n",
              "3       i was feeling a little vain when i did this one  sadness\n",
              "4     i cant walk into a shop anywhere where i do no...     fear\n",
              "...                                                 ...      ...\n",
              "1994  i just keep feeling like someone is being unki...    anger\n",
              "1995  im feeling a little cranky negative after this...    anger\n",
              "1996  i feel that i am useful to my people and that ...      joy\n",
              "1997  im feeling more comfortable with derby i feel ...      joy\n",
              "1998  i feel all weird when i have to meet w people ...     fear\n",
              "\n",
              "[1999 rows x 2 columns]"
            ],
            "text/html": [
              "\n",
              "  <div id=\"df-a99bd2e7-8e0a-4447-9b51-d03c90ae206b\">\n",
              "    <div class=\"colab-df-container\">\n",
              "      <div>\n",
              "<style scoped>\n",
              "    .dataframe tbody tr th:only-of-type {\n",
              "        vertical-align: middle;\n",
              "    }\n",
              "\n",
              "    .dataframe tbody tr th {\n",
              "        vertical-align: top;\n",
              "    }\n",
              "\n",
              "    .dataframe thead th {\n",
              "        text-align: right;\n",
              "    }\n",
              "</style>\n",
              "<table border=\"1\" class=\"dataframe\">\n",
              "  <thead>\n",
              "    <tr style=\"text-align: right;\">\n",
              "      <th></th>\n",
              "      <th>desc</th>\n",
              "      <th>emotion</th>\n",
              "    </tr>\n",
              "  </thead>\n",
              "  <tbody>\n",
              "    <tr>\n",
              "      <th>0</th>\n",
              "      <td>im updating my blog because i feel shitty</td>\n",
              "      <td>sadness</td>\n",
              "    </tr>\n",
              "    <tr>\n",
              "      <th>1</th>\n",
              "      <td>i never make her separate from me because i do...</td>\n",
              "      <td>sadness</td>\n",
              "    </tr>\n",
              "    <tr>\n",
              "      <th>2</th>\n",
              "      <td>i left with my bouquet of red and yellow tulip...</td>\n",
              "      <td>joy</td>\n",
              "    </tr>\n",
              "    <tr>\n",
              "      <th>3</th>\n",
              "      <td>i was feeling a little vain when i did this one</td>\n",
              "      <td>sadness</td>\n",
              "    </tr>\n",
              "    <tr>\n",
              "      <th>4</th>\n",
              "      <td>i cant walk into a shop anywhere where i do no...</td>\n",
              "      <td>fear</td>\n",
              "    </tr>\n",
              "    <tr>\n",
              "      <th>...</th>\n",
              "      <td>...</td>\n",
              "      <td>...</td>\n",
              "    </tr>\n",
              "    <tr>\n",
              "      <th>1994</th>\n",
              "      <td>i just keep feeling like someone is being unki...</td>\n",
              "      <td>anger</td>\n",
              "    </tr>\n",
              "    <tr>\n",
              "      <th>1995</th>\n",
              "      <td>im feeling a little cranky negative after this...</td>\n",
              "      <td>anger</td>\n",
              "    </tr>\n",
              "    <tr>\n",
              "      <th>1996</th>\n",
              "      <td>i feel that i am useful to my people and that ...</td>\n",
              "      <td>joy</td>\n",
              "    </tr>\n",
              "    <tr>\n",
              "      <th>1997</th>\n",
              "      <td>im feeling more comfortable with derby i feel ...</td>\n",
              "      <td>joy</td>\n",
              "    </tr>\n",
              "    <tr>\n",
              "      <th>1998</th>\n",
              "      <td>i feel all weird when i have to meet w people ...</td>\n",
              "      <td>fear</td>\n",
              "    </tr>\n",
              "  </tbody>\n",
              "</table>\n",
              "<p>1999 rows × 2 columns</p>\n",
              "</div>\n",
              "      <button class=\"colab-df-convert\" onclick=\"convertToInteractive('df-a99bd2e7-8e0a-4447-9b51-d03c90ae206b')\"\n",
              "              title=\"Convert this dataframe to an interactive table.\"\n",
              "              style=\"display:none;\">\n",
              "        \n",
              "  <svg xmlns=\"http://www.w3.org/2000/svg\" height=\"24px\"viewBox=\"0 0 24 24\"\n",
              "       width=\"24px\">\n",
              "    <path d=\"M0 0h24v24H0V0z\" fill=\"none\"/>\n",
              "    <path d=\"M18.56 5.44l.94 2.06.94-2.06 2.06-.94-2.06-.94-.94-2.06-.94 2.06-2.06.94zm-11 1L8.5 8.5l.94-2.06 2.06-.94-2.06-.94L8.5 2.5l-.94 2.06-2.06.94zm10 10l.94 2.06.94-2.06 2.06-.94-2.06-.94-.94-2.06-.94 2.06-2.06.94z\"/><path d=\"M17.41 7.96l-1.37-1.37c-.4-.4-.92-.59-1.43-.59-.52 0-1.04.2-1.43.59L10.3 9.45l-7.72 7.72c-.78.78-.78 2.05 0 2.83L4 21.41c.39.39.9.59 1.41.59.51 0 1.02-.2 1.41-.59l7.78-7.78 2.81-2.81c.8-.78.8-2.07 0-2.86zM5.41 20L4 18.59l7.72-7.72 1.47 1.35L5.41 20z\"/>\n",
              "  </svg>\n",
              "      </button>\n",
              "      \n",
              "  <style>\n",
              "    .colab-df-container {\n",
              "      display:flex;\n",
              "      flex-wrap:wrap;\n",
              "      gap: 12px;\n",
              "    }\n",
              "\n",
              "    .colab-df-convert {\n",
              "      background-color: #E8F0FE;\n",
              "      border: none;\n",
              "      border-radius: 50%;\n",
              "      cursor: pointer;\n",
              "      display: none;\n",
              "      fill: #1967D2;\n",
              "      height: 32px;\n",
              "      padding: 0 0 0 0;\n",
              "      width: 32px;\n",
              "    }\n",
              "\n",
              "    .colab-df-convert:hover {\n",
              "      background-color: #E2EBFA;\n",
              "      box-shadow: 0px 1px 2px rgba(60, 64, 67, 0.3), 0px 1px 3px 1px rgba(60, 64, 67, 0.15);\n",
              "      fill: #174EA6;\n",
              "    }\n",
              "\n",
              "    [theme=dark] .colab-df-convert {\n",
              "      background-color: #3B4455;\n",
              "      fill: #D2E3FC;\n",
              "    }\n",
              "\n",
              "    [theme=dark] .colab-df-convert:hover {\n",
              "      background-color: #434B5C;\n",
              "      box-shadow: 0px 1px 3px 1px rgba(0, 0, 0, 0.15);\n",
              "      filter: drop-shadow(0px 1px 2px rgba(0, 0, 0, 0.3));\n",
              "      fill: #FFFFFF;\n",
              "    }\n",
              "  </style>\n",
              "\n",
              "      <script>\n",
              "        const buttonEl =\n",
              "          document.querySelector('#df-a99bd2e7-8e0a-4447-9b51-d03c90ae206b button.colab-df-convert');\n",
              "        buttonEl.style.display =\n",
              "          google.colab.kernel.accessAllowed ? 'block' : 'none';\n",
              "\n",
              "        async function convertToInteractive(key) {\n",
              "          const element = document.querySelector('#df-a99bd2e7-8e0a-4447-9b51-d03c90ae206b');\n",
              "          const dataTable =\n",
              "            await google.colab.kernel.invokeFunction('convertToInteractive',\n",
              "                                                     [key], {});\n",
              "          if (!dataTable) return;\n",
              "\n",
              "          const docLinkHtml = 'Like what you see? Visit the ' +\n",
              "            '<a target=\"_blank\" href=https://colab.research.google.com/notebooks/data_table.ipynb>data table notebook</a>'\n",
              "            + ' to learn more about interactive tables.';\n",
              "          element.innerHTML = '';\n",
              "          dataTable['output_type'] = 'display_data';\n",
              "          await google.colab.output.renderOutput(dataTable, element);\n",
              "          const docLink = document.createElement('div');\n",
              "          docLink.innerHTML = docLinkHtml;\n",
              "          element.appendChild(docLink);\n",
              "        }\n",
              "      </script>\n",
              "    </div>\n",
              "  </div>\n",
              "  "
            ]
          },
          "metadata": {},
          "execution_count": 18
        }
      ],
      "source": [
        "data_test"
      ]
    },
    {
      "cell_type": "code",
      "execution_count": 19,
      "metadata": {
        "colab": {
          "base_uri": "https://localhost:8080/",
          "height": 352
        },
        "id": "u1waFOhPiD9J",
        "outputId": "6a08c24c-396c-472f-be9e-1548e82a0ed3"
      },
      "outputs": [
        {
          "output_type": "stream",
          "name": "stderr",
          "text": [
            "/usr/local/lib/python3.7/dist-packages/seaborn/_decorators.py:43: FutureWarning: Pass the following variable as a keyword arg: x. From version 0.12, the only valid positional argument will be `data`, and passing other arguments without an explicit keyword will result in an error or misinterpretation.\n",
            "  FutureWarning\n"
          ]
        },
        {
          "output_type": "execute_result",
          "data": {
            "text/plain": [
              "<matplotlib.axes._subplots.AxesSubplot at 0x7f4b38291f10>"
            ]
          },
          "metadata": {},
          "execution_count": 19
        },
        {
          "output_type": "display_data",
          "data": {
            "text/plain": [
              "<Figure size 432x288 with 1 Axes>"
            ],
            "image/png": "[encoded data removed]"
          },
          "metadata": {
            "needs_background": "light"
          }
        }
      ],
      "source": [
        "sns.countplot(data_test['emotion'],order = data_test['emotion'].value_counts(normalize=True).index)"
      ]
    },
    {
      "cell_type": "code",
      "execution_count": 20,
      "metadata": {
        "colab": {
          "base_uri": "https://localhost:8080/",
          "height": 303
        },
        "id": "GK7aQs6BinUP",
        "outputId": "df0ff4e7-565b-48d4-cf32-ef6338d6b2a1"
      },
      "outputs": [
        {
          "output_type": "execute_result",
          "data": {
            "text/plain": [
              "<matplotlib.axes._subplots.AxesSubplot at 0x7f4b3821fe50>"
            ]
          },
          "metadata": {},
          "execution_count": 20
        },
        {
          "output_type": "display_data",
          "data": {
            "text/plain": [
              "<Figure size 432x288 with 2 Axes>"
            ],
            "image/png": "[encoded data removed]"
          },
          "metadata": {
            "needs_background": "light"
          }
        }
      ],
      "source": [
        "sns.heatmap(data_test.isna().transpose(),cmap=\"YlGnBu\",cbar_kws={'label': 'Missing Data'})"
      ]
    },
    {
      "cell_type": "code",
      "execution_count": 21,
      "metadata": {
        "colab": {
          "base_uri": "https://localhost:8080/"
        },
        "id": "MNLSwqOIinXC",
        "outputId": "27ed4b90-8d57-455d-b6c1-bda0082f9fe4"
      },
      "outputs": [
        {
          "output_type": "execute_result",
          "data": {
            "text/plain": [
              "(1999, 2)"
            ]
          },
          "metadata": {},
          "execution_count": 21
        }
      ],
      "source": [
        "data_train=data_train[['desc','emotion']]\n",
        "data_train.shape\n",
        "data_test.shape"
      ]
    },
    {
      "cell_type": "markdown",
      "source": [
        "# **DATA PRE PROCESSING**"
      ],
      "metadata": {
        "id": "u1sO-hB9RiNw"
      }
    },
    {
      "cell_type": "code",
      "execution_count": 22,
      "metadata": {
        "colab": {
          "base_uri": "https://localhost:8080/",
          "height": 0
        },
        "id": "_nBwuB4c2wIQ",
        "outputId": "bcd2fcb8-4bf7-47f8-de4d-0568f8cf245f"
      },
      "outputs": [
        {
          "output_type": "execute_result",
          "data": {
            "text/plain": [
              "'\\nimport string\\nstring.punctuation\\nimport re\\n\\ndef remove_punctuation(text):\\n    punctuationfree=\"\".join([i for i in text if i not in string.punctuation])\\n    return punctuationfree\\n\\n\\ndef tokenization(text):\\n    tokens = re.split(\\'W+\\',text)\\n    return tokens\\n\\nimport nltk\\nnltk.download(\\'stopwords\\')\\nnltk.download(\\'wordnet\\')\\n#Stop words present in the library\\nstopwords = nltk.corpus.stopwords.words(\\'english\\')\\n\\ndef remove_stopwords(text):\\n    output= [i for i in text if i not in stopwords]\\n    return output\\n\\nfrom nltk.stem import WordNetLemmatizer\\n#defining the object for Lemmatization\\nwordnet_lemmatizer = WordNetLemmatizer()\\n\\n\\ndef lemmatizer(text):\\n  lemm_text = [wordnet_lemmatizer.lemmatize(word) for word in text]\\n  return lemm_text\\n\\n\\ndata_train[\\'desc\\'] = data_train[\\'desc\\'].apply(lambda x:remove_punctuation(x))\\ndata_train[\\'desc\\'] = data_train[\\'desc\\'].apply(lambda x: tokenization(x))\\ndata_train[\\'desc\\'] = data_train[\\'desc\\'].apply(lambda x:remove_stopwords(x))\\ndata_train[\\'desc\\'] = data_train[\\'desc\\'].apply(lambda x:lemmatizer(x))\\n'"
            ],
            "application/vnd.google.colaboratory.intrinsic+json": {
              "type": "string"
            }
          },
          "metadata": {},
          "execution_count": 22
        }
      ],
      "source": [
        "'''\n",
        "import string\n",
        "string.punctuation\n",
        "import re\n",
        "\n",
        "def remove_punctuation(text):\n",
        "    punctuationfree=\"\".join([i for i in text if i not in string.punctuation])\n",
        "    return punctuationfree\n",
        "\n",
        "\n",
        "def tokenization(text):\n",
        "    tokens = re.split('W+',text)\n",
        "    return tokens\n",
        "\n",
        "import nltk\n",
        "nltk.download('stopwords')\n",
        "nltk.download('wordnet')\n",
        "#Stop words present in the library\n",
        "stopwords = nltk.corpus.stopwords.words('english')\n",
        "\n",
        "def remove_stopwords(text):\n",
        "    output= [i for i in text if i not in stopwords]\n",
        "    return output\n",
        "\n",
        "from nltk.stem import WordNetLemmatizer\n",
        "#defining the object for Lemmatization\n",
        "wordnet_lemmatizer = WordNetLemmatizer()\n",
        "\n",
        "\n",
        "def lemmatizer(text):\n",
        "  lemm_text = [wordnet_lemmatizer.lemmatize(word) for word in text]\n",
        "  return lemm_text\n",
        "\n",
        "\n",
        "data_train['desc'] = data_train['desc'].apply(lambda x:remove_punctuation(x))\n",
        "data_train['desc'] = data_train['desc'].apply(lambda x: tokenization(x))\n",
        "data_train['desc'] = data_train['desc'].apply(lambda x:remove_stopwords(x))\n",
        "data_train['desc'] = data_train['desc'].apply(lambda x:lemmatizer(x))\n",
        "'''"
      ]
    },
    {
      "cell_type": "markdown",
      "source": [
        "# **DATA VECTORIZATION AND CLEANUP**"
      ],
      "metadata": {
        "id": "AYyOxH52RoiL"
      }
    },
    {
      "cell_type": "code",
      "execution_count": 23,
      "metadata": {
        "colab": {
          "base_uri": "https://localhost:8080/"
        },
        "id": "vIYZwLaMyd_z",
        "outputId": "31656a83-8252-4b63-e3fd-a08e294736ed"
      },
      "outputs": [
        {
          "output_type": "stream",
          "name": "stderr",
          "text": [
            "/usr/local/lib/python3.7/dist-packages/ipykernel_launcher.py:13: SettingWithCopyWarning: \n",
            "A value is trying to be set on a copy of a slice from a DataFrame.\n",
            "Try using .loc[row_indexer,col_indexer] = value instead\n",
            "\n",
            "See the caveats in the documentation: https://pandas.pydata.org/pandas-docs/stable/user_guide/indexing.html#returning-a-view-versus-a-copy\n",
            "  del sys.path[0]\n"
          ]
        }
      ],
      "source": [
        "from sklearn.feature_extraction.text import CountVectorizer\n",
        "from nltk.tokenize import RegexpTokenizer\n",
        "from sklearn.naive_bayes import MultinomialNB\n",
        "from sklearn import metrics\n",
        "\n",
        "token = RegexpTokenizer(r'[a-zA-Z0-9]+')\n",
        "vect = CountVectorizer(lowercase=True,stop_words='english',ngram_range = (1,1),tokenizer = token.tokenize)\n",
        "\n",
        "X=data_train['desc']\n",
        "from sklearn.preprocessing import LabelEncoder\n",
        "labelEncoder = LabelEncoder()\n",
        "labelEncoder.fit(data_train['emotion'])\n",
        "data_train['emotion_label'] = labelEncoder.transform(data_train['emotion'])\n",
        "Y = data_train['emotion_label']\n",
        "from sklearn.model_selection import train_test_split\n",
        "X_train, X_test, y_train, y_test = train_test_split(X,Y, test_size=0.3, random_state=123)\n",
        "\n",
        "X_train_dtm = vect.fit_transform(X_train)\n",
        "X_test_dtm = vect.transform(X_test)\n"
      ]
    },
    {
      "cell_type": "markdown",
      "source": [
        "# **DATA MODELLING**"
      ],
      "metadata": {
        "id": "MpxeQVbmRysN"
      }
    },
    {
      "cell_type": "code",
      "execution_count": 25,
      "metadata": {
        "colab": {
          "base_uri": "https://localhost:8080/"
        },
        "id": "BxHZ1TDWDwyL",
        "outputId": "4d5f7f05-31d8-4478-ce7e-aa957a442f2b"
      },
      "outputs": [
        {
          "output_type": "stream",
          "name": "stdout",
          "text": [
            "MultinomialNB Accuracy: 0.7716666666666666\n",
            "Precision for MultinomialNB default: 0.7971892747231408\n",
            "---------------------------------------------------------------------------------\n",
            "R Squared - tree_reg_h: 0.6505271990808816\n",
            "DT accuracy: 0.8722916666666667\n",
            "---------------------------------------------------------------------------------\n",
            "Accuracy for KNN default: 0.44729166666666664\n",
            "Precision for KNN default: 0.5109086042624956\n",
            "---------------------------------------------------------------------------------\n",
            "Accuracy for SVM default: 0.8695833333333334\n",
            "Precision for SVM default: 0.8697843143571433\n",
            "---------------------------------------------------------------------------------\n",
            "Accuracy for RF default: 0.8795833333333334\n",
            "Precision for RF default: 0.8792007453482099\n"
          ]
        }
      ],
      "source": [
        "MNBmodel = MultinomialNB()\n",
        "MNBmodel.fit(X_train_dtm, y_train)\n",
        "Y_pred = MNBmodel.predict(X_test_dtm)\n",
        "print(\"MultinomialNB Accuracy:\",metrics.accuracy_score(y_test, Y_pred))\n",
        "print(\"Precision for MultinomialNB default:\",metrics.precision_score(y_test, Y_pred,average='weighted'))\n",
        "\n",
        "print('---------------------------------------------------------------------------------')\n",
        "\n",
        "tree_reg_dt = DecisionTreeClassifier(min_samples_leaf=5,random_state=42)\n",
        "tree_reg_dt.fit(X_train_dtm, y_train)\n",
        "y_pred = tree_reg_dt.predict(X_test_dtm)\n",
        "#print(\"MSE - tree_reg_h:\", metrics.mean_squared_error(y_test, y_pred, squared=False))\n",
        "print(\"R Squared - tree_reg_h:\", metrics.r2_score(y_test, y_pred))\n",
        "print('DT accuracy:',metrics.accuracy_score(y_test,y_pred))\n",
        "\n",
        "print('---------------------------------------------------------------------------------')\n",
        "\n",
        "knn_model_def = KNeighborsClassifier(n_neighbors=3)\n",
        "knn_model_def.fit(X_train_dtm, y_train)\n",
        "y_pred = knn_model_def.predict(X_test_dtm)\n",
        "print(\"Accuracy for KNN default:\",metrics.accuracy_score(y_test, y_pred))\n",
        "print(\"Precision for KNN default:\",metrics.precision_score(y_test, y_pred,average='weighted'))\n",
        "\n",
        "print('---------------------------------------------------------------------------------')\n",
        "\n",
        "model_svm_def = svm.SVC(kernel='linear')\n",
        "model_svm_def.fit(X_train_dtm, y_train)\n",
        "y_pred_svm = model_svm_def.predict(X_test_dtm)\n",
        "print(\"Accuracy for SVM default:\", accuracy_score(y_test, y_pred_svm))\n",
        "print(\"Precision for SVM default:\",metrics.precision_score(y_test, y_pred_svm,average='weighted'))\n",
        "\n",
        "print('---------------------------------------------------------------------------------')\n",
        "\n",
        "model_rf_def = RandomForestClassifier(n_estimators=100)\n",
        "model_rf_def.fit(X_train_dtm, y_train)\n",
        "y_pred_def_rf = model_rf_def.predict(X_test_dtm)\n",
        "print(\"Accuracy for RF default:\", accuracy_score(y_test, y_pred_def_rf))\n",
        "print(\"Precision for RF default:\",metrics.precision_score(y_test, y_pred_def_rf,average='weighted'))"
      ]
    },
    {
      "cell_type": "markdown",
      "source": [
        "# **DEALING WITH IMBALANCED DATA**"
      ],
      "metadata": {
        "id": "Smr4AJuWR2gu"
      }
    },
    {
      "cell_type": "code",
      "source": [
        "Counter(data_train['emotion'])"
      ],
      "metadata": {
        "colab": {
          "base_uri": "https://localhost:8080/"
        },
        "id": "aG7wNip0IgzR",
        "outputId": "ebe7c804-aea2-4216-f4d0-c5aa37975960"
      },
      "execution_count": 26,
      "outputs": [
        {
          "output_type": "execute_result",
          "data": {
            "text/plain": [
              "Counter({'anger': 2159,\n",
              "         'fear': 1937,\n",
              "         'joy': 5362,\n",
              "         'love': 1304,\n",
              "         'sadness': 4665,\n",
              "         'surprise': 572})"
            ]
          },
          "metadata": {},
          "execution_count": 26
        }
      ]
    },
    {
      "cell_type": "code",
      "source": [
        "dt_sup = data_train.loc[data_train['emotion'] == 'surprise']\n",
        "dt_love = data_train.loc[data_train['emotion'] == 'love']\n",
        "dt_fear = data_train.loc[data_train['emotion'] == 'fear']\n",
        "dt_anger = data_train.loc[data_train['emotion'] == 'anger']\n",
        "dt_sad = data_train.loc[data_train['emotion'] == 'sadness']\n",
        "dt_joy = data_train.loc[data_train['emotion'] == 'joy']"
      ],
      "metadata": {
        "id": "a9loPvImIvIt"
      },
      "execution_count": 27,
      "outputs": []
    },
    {
      "cell_type": "code",
      "source": [
        "data_balanced = pd.concat([dt_sup,dt_love.head(572),dt_fear.head(572),dt_anger.head(572),dt_sad.head(572),dt_joy.head(572)],axis=0)\n",
        "Counter(data_balanced['emotion'])"
      ],
      "metadata": {
        "colab": {
          "base_uri": "https://localhost:8080/"
        },
        "id": "e7A-pfXMI1Tw",
        "outputId": "0bac269b-cea9-4e0b-e237-31bad27cf27a"
      },
      "execution_count": 28,
      "outputs": [
        {
          "output_type": "execute_result",
          "data": {
            "text/plain": [
              "Counter({'anger': 572,\n",
              "         'fear': 572,\n",
              "         'joy': 572,\n",
              "         'love': 572,\n",
              "         'sadness': 572,\n",
              "         'surprise': 572})"
            ]
          },
          "metadata": {},
          "execution_count": 28
        }
      ]
    },
    {
      "cell_type": "code",
      "source": [
        "sns.countplot(data_balanced['emotion'],order = data_balanced['emotion'].value_counts(normalize=True).index)"
      ],
      "metadata": {
        "colab": {
          "base_uri": "https://localhost:8080/",
          "height": 356
        },
        "id": "6My4zK6IX672",
        "outputId": "56856f36-4c38-4171-8a0e-abf860f38398"
      },
      "execution_count": 31,
      "outputs": [
        {
          "output_type": "stream",
          "name": "stderr",
          "text": [
            "/usr/local/lib/python3.7/dist-packages/seaborn/_decorators.py:43: FutureWarning: Pass the following variable as a keyword arg: x. From version 0.12, the only valid positional argument will be `data`, and passing other arguments without an explicit keyword will result in an error or misinterpretation.\n",
            "  FutureWarning\n"
          ]
        },
        {
          "output_type": "execute_result",
          "data": {
            "text/plain": [
              "<matplotlib.axes._subplots.AxesSubplot at 0x7f4b38b1ec50>"
            ]
          },
          "metadata": {},
          "execution_count": 31
        },
        {
          "output_type": "display_data",
          "data": {
            "text/plain": [
              "<Figure size 432x288 with 1 Axes>"
            ],
            "image/png": "[encoded data removed]"
          },
          "metadata": {
            "needs_background": "light"
          }
        }
      ]
    },
    {
      "cell_type": "markdown",
      "source": [
        "# **HYPER PARAMETERS TUNING**"
      ],
      "metadata": {
        "id": "TSdrfQQcR8HU"
      }
    },
    {
      "cell_type": "code",
      "source": [
        "token = RegexpTokenizer(r'[a-zA-Z0-9]+')\n",
        "vect = CountVectorizer(lowercase=True,stop_words='english',ngram_range = (1,1),tokenizer = token.tokenize)\n",
        "\n",
        "X=data_balanced['desc']\n",
        "from sklearn.preprocessing import LabelEncoder\n",
        "labelEncoder = LabelEncoder()\n",
        "labelEncoder.fit(data_balanced['emotion'])\n",
        "data_balanced['emotion_label'] = labelEncoder.transform(data_balanced['emotion'])\n",
        "Y = data_balanced['emotion_label']\n",
        "from sklearn.model_selection import train_test_split\n",
        "X_train, X_test, y_train, y_test = train_test_split(X,Y, test_size=0.3, random_state=123)\n",
        "\n",
        "X_train_dtm = vect.fit_transform(X_train)\n",
        "X_test_dtm = vect.transform(X_test)"
      ],
      "metadata": {
        "id": "MxOeJwbkJf5S"
      },
      "execution_count": 29,
      "outputs": []
    },
    {
      "cell_type": "code",
      "execution_count": 35,
      "metadata": {
        "colab": {
          "base_uri": "https://localhost:8080/"
        },
        "id": "5bOavG-H-LEr",
        "outputId": "1c599d9a-c07f-47bc-a299-e24c5883e720"
      },
      "outputs": [
        {
          "output_type": "stream",
          "name": "stdout",
          "text": [
            "Parameter grid:\n",
            "{'alpha': [0.001, 0.01, 0.1, 0.2, 0.3, 0.4, 0.5, 0.6, 0.7, 0.8, 0.9, 1.0]}\n",
            "Best parameters: {'alpha': 1.0}\n",
            "Best cross-validation score: 0.69\n",
            "accuracy 0.7194174757281553\n",
            "Test set score with best parameters: 0.72\n"
          ]
        }
      ],
      "source": [
        "param_grid = {'alpha': [0.001, 0.01, 0.1, 0.2, 0.3, 0.4, 0.5, 0.6, 0.7, 0.8, 0.9, 1.0]}\n",
        "print(\"Parameter grid:\\n{}\".format(param_grid))\n",
        "\n",
        "grid_search = GridSearchCV(MultinomialNB(), param_grid, cv=5,return_train_score=True, scoring=\"accuracy\")\n",
        "grid_search.fit(X_train_dtm, y_train)\n",
        "print(\"Best parameters: {}\".format(grid_search.best_params_))\n",
        "print(\"Best cross-validation score: {:.2f}\".format(grid_search.best_score_))\n",
        "nbgs = MultinomialNB(**grid_search.best_params_)\n",
        "nbgs.fit(X_train_dtm, y_train)\n",
        "y_pred_nbgs = nbgs.predict(X_test_dtm)\n",
        "print('accuracy',accuracy_score(y_test, y_pred_nbgs))\n",
        "test_score = nbgs.score(X_test_dtm,y_test)\n",
        "print(\"Test set score with best parameters: {:.2f}\".format(test_score))"
      ]
    },
    {
      "cell_type": "code",
      "execution_count": 36,
      "metadata": {
        "colab": {
          "base_uri": "https://localhost:8080/"
        },
        "id": "qTybcLZuC2Y6",
        "outputId": "fb85d1c0-c94d-440f-9894-00ecf685c6a4"
      },
      "outputs": [
        {
          "output_type": "stream",
          "name": "stdout",
          "text": [
            "Parameter grid:\n",
            "{'C': [0.001, 0.1, 0.5, 1, 10]}\n",
            "Fitting 5 folds for each of 5 candidates, totalling 25 fits\n",
            "[CV 1/5] END ...........................C=0.001;, score=0.175 total time=   0.7s\n",
            "[CV 2/5] END ...........................C=0.001;, score=0.175 total time=   0.7s\n",
            "[CV 3/5] END ...........................C=0.001;, score=0.173 total time=   0.7s\n",
            "[CV 4/5] END ...........................C=0.001;, score=0.175 total time=   0.7s\n",
            "[CV 5/5] END ...........................C=0.001;, score=0.175 total time=   0.7s\n",
            "[CV 1/5] END .............................C=0.1;, score=0.175 total time=   0.8s\n",
            "[CV 2/5] END .............................C=0.1;, score=0.175 total time=   0.7s\n",
            "[CV 3/5] END .............................C=0.1;, score=0.173 total time=   0.7s\n",
            "[CV 4/5] END .............................C=0.1;, score=0.175 total time=   0.7s\n",
            "[CV 5/5] END .............................C=0.1;, score=0.175 total time=   0.7s\n",
            "[CV 1/5] END .............................C=0.5;, score=0.466 total time=   0.7s\n",
            "[CV 2/5] END .............................C=0.5;, score=0.389 total time=   0.7s\n",
            "[CV 3/5] END .............................C=0.5;, score=0.471 total time=   0.7s\n",
            "[CV 4/5] END .............................C=0.5;, score=0.412 total time=   0.7s\n",
            "[CV 5/5] END .............................C=0.5;, score=0.473 total time=   0.7s\n",
            "[CV 1/5] END ...............................C=1;, score=0.672 total time=   0.8s\n",
            "[CV 2/5] END ...............................C=1;, score=0.630 total time=   0.8s\n",
            "[CV 3/5] END ...............................C=1;, score=0.706 total time=   0.8s\n",
            "[CV 4/5] END ...............................C=1;, score=0.650 total time=   0.8s\n",
            "[CV 5/5] END ...............................C=1;, score=0.692 total time=   0.8s\n",
            "[CV 1/5] END ..............................C=10;, score=0.751 total time=   0.8s\n",
            "[CV 2/5] END ..............................C=10;, score=0.709 total time=   0.8s\n",
            "[CV 3/5] END ..............................C=10;, score=0.771 total time=   0.8s\n",
            "[CV 4/5] END ..............................C=10;, score=0.744 total time=   0.8s\n",
            "[CV 5/5] END ..............................C=10;, score=0.781 total time=   0.8s\n",
            "Best parameters: {'C': 10}\n",
            "Accuracy for SVM GS: 0.8038834951456311\n",
            "Precision for SVM GS: 0.8070734331021748\n"
          ]
        }
      ],
      "source": [
        "param_grid = {'C': [0.001,0.1, 0.5, 1,10]}\n",
        "print(\"Parameter grid:\\n{}\".format(param_grid))\n",
        "\n",
        "grid_search = GridSearchCV(svm.SVC(), param_grid, refit = True, verbose = 3)\n",
        "grid_search.fit(X_train_dtm, y_train)\n",
        "\n",
        "print(\"Best parameters: {}\".format(grid_search.best_params_))\n",
        "\n",
        "mode_svm_gs = svm.SVC(**grid_search.best_params_)\n",
        "mode_svm_gs.fit(X_train_dtm, y_train)\n",
        "\n",
        "y_pred_f = mode_svm_gs.predict(X_test_dtm)\n",
        "print(\"Accuracy for SVM GS:\",metrics.accuracy_score(y_test, y_pred_f))\n",
        "print(\"Precision for SVM GS:\",metrics.precision_score(y_test, y_pred_f,average='weighted'))"
      ]
    },
    {
      "cell_type": "code",
      "execution_count": 30,
      "metadata": {
        "id": "bb6rW1x6UyPt",
        "colab": {
          "base_uri": "https://localhost:8080/"
        },
        "outputId": "9f3f5e62-78e7-4e7d-e54c-b16b2e1e6b8d"
      },
      "outputs": [
        {
          "output_type": "stream",
          "name": "stdout",
          "text": [
            "Fitting 5 folds for each of 90 candidates, totalling 450 fits\n",
            "[CV 1/5] END max_depth=10, min_samples_leaf=1, n_estimators=200;, score=0.694 total time=   0.7s\n",
            "[CV 2/5] END max_depth=10, min_samples_leaf=1, n_estimators=200;, score=0.721 total time=   0.7s\n",
            "[CV 3/5] END max_depth=10, min_samples_leaf=1, n_estimators=200;, score=0.752 total time=   0.7s\n",
            "[CV 4/5] END max_depth=10, min_samples_leaf=1, n_estimators=200;, score=0.760 total time=   0.7s\n",
            "[CV 5/5] END max_depth=10, min_samples_leaf=1, n_estimators=200;, score=0.748 total time=   0.6s\n",
            "[CV 1/5] END max_depth=10, min_samples_leaf=1, n_estimators=400;, score=0.767 total time=   1.3s\n",
            "[CV 2/5] END max_depth=10, min_samples_leaf=1, n_estimators=400;, score=0.775 total time=   1.3s\n",
            "[CV 3/5] END max_depth=10, min_samples_leaf=1, n_estimators=400;, score=0.746 total time=   1.3s\n",
            "[CV 4/5] END max_depth=10, min_samples_leaf=1, n_estimators=400;, score=0.750 total time=   1.3s\n",
            "[CV 5/5] END max_depth=10, min_samples_leaf=1, n_estimators=400;, score=0.756 total time=   1.3s\n",
            "[CV 1/5] END max_depth=10, min_samples_leaf=1, n_estimators=600;, score=0.746 total time=   1.9s\n",
            "[CV 2/5] END max_depth=10, min_samples_leaf=1, n_estimators=600;, score=0.740 total time=   1.9s\n",
            "[CV 3/5] END max_depth=10, min_samples_leaf=1, n_estimators=600;, score=0.735 total time=   1.9s\n",
            "[CV 4/5] END max_depth=10, min_samples_leaf=1, n_estimators=600;, score=0.779 total time=   2.0s\n",
            "[CV 5/5] END max_depth=10, min_samples_leaf=1, n_estimators=600;, score=0.756 total time=   1.9s\n",
            "[CV 1/5] END max_depth=10, min_samples_leaf=1, n_estimators=800;, score=0.742 total time=   2.6s\n",
            "[CV 2/5] END max_depth=10, min_samples_leaf=1, n_estimators=800;, score=0.738 total time=   2.5s\n",
            "[CV 3/5] END max_depth=10, min_samples_leaf=1, n_estimators=800;, score=0.748 total time=   2.6s\n",
            "[CV 4/5] END max_depth=10, min_samples_leaf=1, n_estimators=800;, score=0.760 total time=   2.6s\n",
            "[CV 5/5] END max_depth=10, min_samples_leaf=1, n_estimators=800;, score=0.746 total time=   2.6s\n",
            "[CV 1/5] END max_depth=10, min_samples_leaf=1, n_estimators=1000;, score=0.759 total time=   3.2s\n",
            "[CV 2/5] END max_depth=10, min_samples_leaf=1, n_estimators=1000;, score=0.755 total time=   3.2s\n",
            "[CV 3/5] END max_depth=10, min_samples_leaf=1, n_estimators=1000;, score=0.754 total time=   3.2s\n",
            "[CV 4/5] END max_depth=10, min_samples_leaf=1, n_estimators=1000;, score=0.773 total time=   3.2s\n",
            "[CV 5/5] END max_depth=10, min_samples_leaf=1, n_estimators=1000;, score=0.748 total time=   3.2s\n",
            "[CV 1/5] END max_depth=10, min_samples_leaf=2, n_estimators=200;, score=0.732 total time=   0.6s\n",
            "[CV 2/5] END max_depth=10, min_samples_leaf=2, n_estimators=200;, score=0.678 total time=   0.6s\n",
            "[CV 3/5] END max_depth=10, min_samples_leaf=2, n_estimators=200;, score=0.713 total time=   0.6s\n",
            "[CV 4/5] END max_depth=10, min_samples_leaf=2, n_estimators=200;, score=0.738 total time=   0.6s\n",
            "[CV 5/5] END max_depth=10, min_samples_leaf=2, n_estimators=200;, score=0.715 total time=   0.6s\n",
            "[CV 1/5] END max_depth=10, min_samples_leaf=2, n_estimators=400;, score=0.755 total time=   1.2s\n",
            "[CV 2/5] END max_depth=10, min_samples_leaf=2, n_estimators=400;, score=0.721 total time=   1.2s\n",
            "[CV 3/5] END max_depth=10, min_samples_leaf=2, n_estimators=400;, score=0.733 total time=   1.2s\n",
            "[CV 4/5] END max_depth=10, min_samples_leaf=2, n_estimators=400;, score=0.765 total time=   1.2s\n",
            "[CV 5/5] END max_depth=10, min_samples_leaf=2, n_estimators=400;, score=0.746 total time=   1.2s\n",
            "[CV 1/5] END max_depth=10, min_samples_leaf=2, n_estimators=600;, score=0.732 total time=   1.8s\n",
            "[CV 2/5] END max_depth=10, min_samples_leaf=2, n_estimators=600;, score=0.734 total time=   1.8s\n",
            "[CV 3/5] END max_depth=10, min_samples_leaf=2, n_estimators=600;, score=0.762 total time=   1.8s\n",
            "[CV 4/5] END max_depth=10, min_samples_leaf=2, n_estimators=600;, score=0.775 total time=   1.8s\n",
            "[CV 5/5] END max_depth=10, min_samples_leaf=2, n_estimators=600;, score=0.760 total time=   1.8s\n",
            "[CV 1/5] END max_depth=10, min_samples_leaf=2, n_estimators=800;, score=0.757 total time=   2.4s\n",
            "[CV 2/5] END max_depth=10, min_samples_leaf=2, n_estimators=800;, score=0.732 total time=   2.4s\n",
            "[CV 3/5] END max_depth=10, min_samples_leaf=2, n_estimators=800;, score=0.750 total time=   2.4s\n",
            "[CV 4/5] END max_depth=10, min_samples_leaf=2, n_estimators=800;, score=0.777 total time=   2.4s\n",
            "[CV 5/5] END max_depth=10, min_samples_leaf=2, n_estimators=800;, score=0.758 total time=   2.4s\n",
            "[CV 1/5] END max_depth=10, min_samples_leaf=2, n_estimators=1000;, score=0.765 total time=   3.1s\n",
            "[CV 2/5] END max_depth=10, min_samples_leaf=2, n_estimators=1000;, score=0.740 total time=   3.0s\n",
            "[CV 3/5] END max_depth=10, min_samples_leaf=2, n_estimators=1000;, score=0.756 total time=   3.1s\n",
            "[CV 4/5] END max_depth=10, min_samples_leaf=2, n_estimators=1000;, score=0.783 total time=   3.1s\n",
            "[CV 5/5] END max_depth=10, min_samples_leaf=2, n_estimators=1000;, score=0.731 total time=   3.0s\n",
            "[CV 1/5] END max_depth=10, min_samples_leaf=4, n_estimators=200;, score=0.732 total time=   0.6s\n",
            "[CV 2/5] END max_depth=10, min_samples_leaf=4, n_estimators=200;, score=0.705 total time=   0.6s\n",
            "[CV 3/5] END max_depth=10, min_samples_leaf=4, n_estimators=200;, score=0.715 total time=   0.6s\n",
            "[CV 4/5] END max_depth=10, min_samples_leaf=4, n_estimators=200;, score=0.715 total time=   0.6s\n",
            "[CV 5/5] END max_depth=10, min_samples_leaf=4, n_estimators=200;, score=0.690 total time=   0.6s\n",
            "[CV 1/5] END max_depth=10, min_samples_leaf=4, n_estimators=400;, score=0.728 total time=   1.2s\n",
            "[CV 2/5] END max_depth=10, min_samples_leaf=4, n_estimators=400;, score=0.703 total time=   1.2s\n",
            "[CV 3/5] END max_depth=10, min_samples_leaf=4, n_estimators=400;, score=0.715 total time=   1.2s\n",
            "[CV 4/5] END max_depth=10, min_samples_leaf=4, n_estimators=400;, score=0.710 total time=   1.2s\n",
            "[CV 5/5] END max_depth=10, min_samples_leaf=4, n_estimators=400;, score=0.681 total time=   1.2s\n",
            "[CV 1/5] END max_depth=10, min_samples_leaf=4, n_estimators=600;, score=0.709 total time=   1.8s\n",
            "[CV 2/5] END max_depth=10, min_samples_leaf=4, n_estimators=600;, score=0.717 total time=   1.8s\n",
            "[CV 3/5] END max_depth=10, min_samples_leaf=4, n_estimators=600;, score=0.729 total time=   1.8s\n",
            "[CV 4/5] END max_depth=10, min_samples_leaf=4, n_estimators=600;, score=0.708 total time=   1.8s\n",
            "[CV 5/5] END max_depth=10, min_samples_leaf=4, n_estimators=600;, score=0.700 total time=   1.8s\n",
            "[CV 1/5] END max_depth=10, min_samples_leaf=4, n_estimators=800;, score=0.707 total time=   2.4s\n",
            "[CV 2/5] END max_depth=10, min_samples_leaf=4, n_estimators=800;, score=0.696 total time=   2.4s\n",
            "[CV 3/5] END max_depth=10, min_samples_leaf=4, n_estimators=800;, score=0.713 total time=   2.4s\n",
            "[CV 4/5] END max_depth=10, min_samples_leaf=4, n_estimators=800;, score=0.715 total time=   2.4s\n",
            "[CV 5/5] END max_depth=10, min_samples_leaf=4, n_estimators=800;, score=0.713 total time=   2.4s\n",
            "[CV 1/5] END max_depth=10, min_samples_leaf=4, n_estimators=1000;, score=0.717 total time=   3.0s\n",
            "[CV 2/5] END max_depth=10, min_samples_leaf=4, n_estimators=1000;, score=0.732 total time=   3.0s\n",
            "[CV 3/5] END max_depth=10, min_samples_leaf=4, n_estimators=1000;, score=0.733 total time=   3.0s\n",
            "[CV 4/5] END max_depth=10, min_samples_leaf=4, n_estimators=1000;, score=0.719 total time=   2.9s\n",
            "[CV 5/5] END max_depth=10, min_samples_leaf=4, n_estimators=1000;, score=0.694 total time=   3.0s\n",
            "[CV 1/5] END max_depth=32, min_samples_leaf=1, n_estimators=200;, score=0.815 total time=   1.4s\n",
            "[CV 2/5] END max_depth=32, min_samples_leaf=1, n_estimators=200;, score=0.802 total time=   1.4s\n",
            "[CV 3/5] END max_depth=32, min_samples_leaf=1, n_estimators=200;, score=0.806 total time=   1.4s\n",
            "[CV 4/5] END max_depth=32, min_samples_leaf=1, n_estimators=200;, score=0.810 total time=   1.4s\n",
            "[CV 5/5] END max_depth=32, min_samples_leaf=1, n_estimators=200;, score=0.800 total time=   1.5s\n",
            "[CV 1/5] END max_depth=32, min_samples_leaf=1, n_estimators=400;, score=0.811 total time=   2.9s\n",
            "[CV 2/5] END max_depth=32, min_samples_leaf=1, n_estimators=400;, score=0.823 total time=   2.9s\n",
            "[CV 3/5] END max_depth=32, min_samples_leaf=1, n_estimators=400;, score=0.825 total time=   2.9s\n",
            "[CV 4/5] END max_depth=32, min_samples_leaf=1, n_estimators=400;, score=0.823 total time=   2.9s\n",
            "[CV 5/5] END max_depth=32, min_samples_leaf=1, n_estimators=400;, score=0.792 total time=   2.9s\n",
            "[CV 1/5] END max_depth=32, min_samples_leaf=1, n_estimators=600;, score=0.811 total time=   4.3s\n",
            "[CV 2/5] END max_depth=32, min_samples_leaf=1, n_estimators=600;, score=0.817 total time=   4.3s\n",
            "[CV 3/5] END max_depth=32, min_samples_leaf=1, n_estimators=600;, score=0.835 total time=   4.3s\n",
            "[CV 4/5] END max_depth=32, min_samples_leaf=1, n_estimators=600;, score=0.817 total time=   4.3s\n",
            "[CV 5/5] END max_depth=32, min_samples_leaf=1, n_estimators=600;, score=0.808 total time=   4.2s\n",
            "[CV 1/5] END max_depth=32, min_samples_leaf=1, n_estimators=800;, score=0.817 total time=   5.8s\n",
            "[CV 2/5] END max_depth=32, min_samples_leaf=1, n_estimators=800;, score=0.823 total time=   5.6s\n",
            "[CV 3/5] END max_depth=32, min_samples_leaf=1, n_estimators=800;, score=0.829 total time=   5.7s\n",
            "[CV 4/5] END max_depth=32, min_samples_leaf=1, n_estimators=800;, score=0.819 total time=   5.7s\n",
            "[CV 5/5] END max_depth=32, min_samples_leaf=1, n_estimators=800;, score=0.817 total time=   5.7s\n",
            "[CV 1/5] END max_depth=32, min_samples_leaf=1, n_estimators=1000;, score=0.817 total time=   7.1s\n",
            "[CV 2/5] END max_depth=32, min_samples_leaf=1, n_estimators=1000;, score=0.827 total time=   7.0s\n",
            "[CV 3/5] END max_depth=32, min_samples_leaf=1, n_estimators=1000;, score=0.823 total time=   7.1s\n",
            "[CV 4/5] END max_depth=32, min_samples_leaf=1, n_estimators=1000;, score=0.821 total time=   7.1s\n",
            "[CV 5/5] END max_depth=32, min_samples_leaf=1, n_estimators=1000;, score=0.810 total time=   7.1s\n",
            "[CV 1/5] END max_depth=32, min_samples_leaf=2, n_estimators=200;, score=0.844 total time=   1.2s\n",
            "[CV 2/5] END max_depth=32, min_samples_leaf=2, n_estimators=200;, score=0.813 total time=   1.2s\n",
            "[CV 3/5] END max_depth=32, min_samples_leaf=2, n_estimators=200;, score=0.827 total time=   1.2s\n",
            "[CV 4/5] END max_depth=32, min_samples_leaf=2, n_estimators=200;, score=0.815 total time=   1.2s\n",
            "[CV 5/5] END max_depth=32, min_samples_leaf=2, n_estimators=200;, score=0.796 total time=   1.2s\n",
            "[CV 1/5] END max_depth=32, min_samples_leaf=2, n_estimators=400;, score=0.838 total time=   2.4s\n",
            "[CV 2/5] END max_depth=32, min_samples_leaf=2, n_estimators=400;, score=0.819 total time=   2.4s\n",
            "[CV 3/5] END max_depth=32, min_samples_leaf=2, n_estimators=400;, score=0.823 total time=   2.4s\n",
            "[CV 4/5] END max_depth=32, min_samples_leaf=2, n_estimators=400;, score=0.812 total time=   2.4s\n",
            "[CV 5/5] END max_depth=32, min_samples_leaf=2, n_estimators=400;, score=0.804 total time=   2.4s\n",
            "[CV 1/5] END max_depth=32, min_samples_leaf=2, n_estimators=600;, score=0.830 total time=   3.6s\n",
            "[CV 2/5] END max_depth=32, min_samples_leaf=2, n_estimators=600;, score=0.823 total time=   3.7s\n",
            "[CV 3/5] END max_depth=32, min_samples_leaf=2, n_estimators=600;, score=0.844 total time=   3.6s\n",
            "[CV 4/5] END max_depth=32, min_samples_leaf=2, n_estimators=600;, score=0.817 total time=   3.7s\n",
            "[CV 5/5] END max_depth=32, min_samples_leaf=2, n_estimators=600;, score=0.806 total time=   3.6s\n",
            "[CV 1/5] END max_depth=32, min_samples_leaf=2, n_estimators=800;, score=0.827 total time=   4.9s\n",
            "[CV 2/5] END max_depth=32, min_samples_leaf=2, n_estimators=800;, score=0.813 total time=   4.8s\n",
            "[CV 3/5] END max_depth=32, min_samples_leaf=2, n_estimators=800;, score=0.846 total time=   4.8s\n",
            "[CV 4/5] END max_depth=32, min_samples_leaf=2, n_estimators=800;, score=0.829 total time=   4.8s\n",
            "[CV 5/5] END max_depth=32, min_samples_leaf=2, n_estimators=800;, score=0.806 total time=   4.8s\n",
            "[CV 1/5] END max_depth=32, min_samples_leaf=2, n_estimators=1000;, score=0.830 total time=   6.0s\n",
            "[CV 2/5] END max_depth=32, min_samples_leaf=2, n_estimators=1000;, score=0.817 total time=   6.0s\n",
            "[CV 3/5] END max_depth=32, min_samples_leaf=2, n_estimators=1000;, score=0.835 total time=   6.0s\n",
            "[CV 4/5] END max_depth=32, min_samples_leaf=2, n_estimators=1000;, score=0.821 total time=   6.0s\n",
            "[CV 5/5] END max_depth=32, min_samples_leaf=2, n_estimators=1000;, score=0.804 total time=   5.9s\n",
            "[CV 1/5] END max_depth=32, min_samples_leaf=4, n_estimators=200;, score=0.753 total time=   1.1s\n",
            "[CV 2/5] END max_depth=32, min_samples_leaf=4, n_estimators=200;, score=0.753 total time=   1.1s\n",
            "[CV 3/5] END max_depth=32, min_samples_leaf=4, n_estimators=200;, score=0.775 total time=   1.1s\n",
            "[CV 4/5] END max_depth=32, min_samples_leaf=4, n_estimators=200;, score=0.756 total time=   1.1s\n",
            "[CV 5/5] END max_depth=32, min_samples_leaf=4, n_estimators=200;, score=0.756 total time=   1.1s\n",
            "[CV 1/5] END max_depth=32, min_samples_leaf=4, n_estimators=400;, score=0.767 total time=   2.3s\n",
            "[CV 2/5] END max_depth=32, min_samples_leaf=4, n_estimators=400;, score=0.790 total time=   2.3s\n",
            "[CV 3/5] END max_depth=32, min_samples_leaf=4, n_estimators=400;, score=0.773 total time=   2.3s\n",
            "[CV 4/5] END max_depth=32, min_samples_leaf=4, n_estimators=400;, score=0.767 total time=   2.3s\n",
            "[CV 5/5] END max_depth=32, min_samples_leaf=4, n_estimators=400;, score=0.765 total time=   2.3s\n",
            "[CV 1/5] END max_depth=32, min_samples_leaf=4, n_estimators=600;, score=0.769 total time=   3.4s\n",
            "[CV 2/5] END max_depth=32, min_samples_leaf=4, n_estimators=600;, score=0.786 total time=   3.4s\n",
            "[CV 3/5] END max_depth=32, min_samples_leaf=4, n_estimators=600;, score=0.765 total time=   3.4s\n",
            "[CV 4/5] END max_depth=32, min_samples_leaf=4, n_estimators=600;, score=0.758 total time=   3.4s\n",
            "[CV 5/5] END max_depth=32, min_samples_leaf=4, n_estimators=600;, score=0.760 total time=   3.4s\n",
            "[CV 1/5] END max_depth=32, min_samples_leaf=4, n_estimators=800;, score=0.767 total time=   4.5s\n",
            "[CV 2/5] END max_depth=32, min_samples_leaf=4, n_estimators=800;, score=0.780 total time=   4.5s\n",
            "[CV 3/5] END max_depth=32, min_samples_leaf=4, n_estimators=800;, score=0.779 total time=   4.5s\n",
            "[CV 4/5] END max_depth=32, min_samples_leaf=4, n_estimators=800;, score=0.752 total time=   4.5s\n",
            "[CV 5/5] END max_depth=32, min_samples_leaf=4, n_estimators=800;, score=0.754 total time=   4.6s\n",
            "[CV 1/5] END max_depth=32, min_samples_leaf=4, n_estimators=1000;, score=0.761 total time=   5.7s\n",
            "[CV 2/5] END max_depth=32, min_samples_leaf=4, n_estimators=1000;, score=0.782 total time=   5.8s\n",
            "[CV 3/5] END max_depth=32, min_samples_leaf=4, n_estimators=1000;, score=0.771 total time=   5.7s\n",
            "[CV 4/5] END max_depth=32, min_samples_leaf=4, n_estimators=1000;, score=0.748 total time=   5.7s\n",
            "[CV 5/5] END max_depth=32, min_samples_leaf=4, n_estimators=1000;, score=0.754 total time=   5.7s\n",
            "[CV 1/5] END max_depth=55, min_samples_leaf=1, n_estimators=200;, score=0.813 total time=   2.2s\n",
            "[CV 2/5] END max_depth=55, min_samples_leaf=1, n_estimators=200;, score=0.821 total time=   2.1s\n",
            "[CV 3/5] END max_depth=55, min_samples_leaf=1, n_estimators=200;, score=0.810 total time=   2.1s\n",
            "[CV 4/5] END max_depth=55, min_samples_leaf=1, n_estimators=200;, score=0.808 total time=   2.2s\n",
            "[CV 5/5] END max_depth=55, min_samples_leaf=1, n_estimators=200;, score=0.810 total time=   2.1s\n",
            "[CV 1/5] END max_depth=55, min_samples_leaf=1, n_estimators=400;, score=0.811 total time=   4.3s\n",
            "[CV 2/5] END max_depth=55, min_samples_leaf=1, n_estimators=400;, score=0.838 total time=   4.2s\n",
            "[CV 3/5] END max_depth=55, min_samples_leaf=1, n_estimators=400;, score=0.817 total time=   4.2s\n",
            "[CV 4/5] END max_depth=55, min_samples_leaf=1, n_estimators=400;, score=0.806 total time=   4.3s\n",
            "[CV 5/5] END max_depth=55, min_samples_leaf=1, n_estimators=400;, score=0.817 total time=   4.2s\n",
            "[CV 1/5] END max_depth=55, min_samples_leaf=1, n_estimators=600;, score=0.815 total time=   6.4s\n",
            "[CV 2/5] END max_depth=55, min_samples_leaf=1, n_estimators=600;, score=0.834 total time=   6.3s\n",
            "[CV 3/5] END max_depth=55, min_samples_leaf=1, n_estimators=600;, score=0.806 total time=   6.3s\n",
            "[CV 4/5] END max_depth=55, min_samples_leaf=1, n_estimators=600;, score=0.817 total time=   6.4s\n",
            "[CV 5/5] END max_depth=55, min_samples_leaf=1, n_estimators=600;, score=0.804 total time=   6.4s\n",
            "[CV 1/5] END max_depth=55, min_samples_leaf=1, n_estimators=800;, score=0.811 total time=   8.5s\n",
            "[CV 2/5] END max_depth=55, min_samples_leaf=1, n_estimators=800;, score=0.819 total time=   8.4s\n",
            "[CV 3/5] END max_depth=55, min_samples_leaf=1, n_estimators=800;, score=0.810 total time=   8.5s\n",
            "[CV 4/5] END max_depth=55, min_samples_leaf=1, n_estimators=800;, score=0.815 total time=   8.5s\n",
            "[CV 5/5] END max_depth=55, min_samples_leaf=1, n_estimators=800;, score=0.819 total time=   8.5s\n",
            "[CV 1/5] END max_depth=55, min_samples_leaf=1, n_estimators=1000;, score=0.813 total time=  10.6s\n",
            "[CV 2/5] END max_depth=55, min_samples_leaf=1, n_estimators=1000;, score=0.836 total time=  10.5s\n",
            "[CV 3/5] END max_depth=55, min_samples_leaf=1, n_estimators=1000;, score=0.810 total time=  10.6s\n",
            "[CV 4/5] END max_depth=55, min_samples_leaf=1, n_estimators=1000;, score=0.804 total time=  10.7s\n",
            "[CV 5/5] END max_depth=55, min_samples_leaf=1, n_estimators=1000;, score=0.806 total time=  10.7s\n",
            "[CV 1/5] END max_depth=55, min_samples_leaf=2, n_estimators=200;, score=0.832 total time=   1.7s\n",
            "[CV 2/5] END max_depth=55, min_samples_leaf=2, n_estimators=200;, score=0.813 total time=   1.7s\n",
            "[CV 3/5] END max_depth=55, min_samples_leaf=2, n_estimators=200;, score=0.838 total time=   1.7s\n",
            "[CV 4/5] END max_depth=55, min_samples_leaf=2, n_estimators=200;, score=0.812 total time=   1.7s\n",
            "[CV 5/5] END max_depth=55, min_samples_leaf=2, n_estimators=200;, score=0.821 total time=   1.7s\n",
            "[CV 1/5] END max_depth=55, min_samples_leaf=2, n_estimators=400;, score=0.832 total time=   3.4s\n",
            "[CV 2/5] END max_depth=55, min_samples_leaf=2, n_estimators=400;, score=0.819 total time=   3.4s\n",
            "[CV 3/5] END max_depth=55, min_samples_leaf=2, n_estimators=400;, score=0.831 total time=   3.4s\n",
            "[CV 4/5] END max_depth=55, min_samples_leaf=2, n_estimators=400;, score=0.825 total time=   3.4s\n",
            "[CV 5/5] END max_depth=55, min_samples_leaf=2, n_estimators=400;, score=0.819 total time=   3.4s\n",
            "[CV 1/5] END max_depth=55, min_samples_leaf=2, n_estimators=600;, score=0.832 total time=   5.1s\n",
            "[CV 2/5] END max_depth=55, min_samples_leaf=2, n_estimators=600;, score=0.819 total time=   5.1s\n",
            "[CV 3/5] END max_depth=55, min_samples_leaf=2, n_estimators=600;, score=0.835 total time=   5.1s\n",
            "[CV 4/5] END max_depth=55, min_samples_leaf=2, n_estimators=600;, score=0.819 total time=   5.1s\n",
            "[CV 5/5] END max_depth=55, min_samples_leaf=2, n_estimators=600;, score=0.817 total time=   5.1s\n",
            "[CV 1/5] END max_depth=55, min_samples_leaf=2, n_estimators=800;, score=0.840 total time=   6.7s\n",
            "[CV 2/5] END max_depth=55, min_samples_leaf=2, n_estimators=800;, score=0.834 total time=   6.8s\n",
            "[CV 3/5] END max_depth=55, min_samples_leaf=2, n_estimators=800;, score=0.831 total time=   6.8s\n",
            "[CV 4/5] END max_depth=55, min_samples_leaf=2, n_estimators=800;, score=0.815 total time=   6.7s\n",
            "[CV 5/5] END max_depth=55, min_samples_leaf=2, n_estimators=800;, score=0.810 total time=   6.7s\n",
            "[CV 1/5] END max_depth=55, min_samples_leaf=2, n_estimators=1000;, score=0.825 total time=   8.5s\n",
            "[CV 2/5] END max_depth=55, min_samples_leaf=2, n_estimators=1000;, score=0.830 total time=   8.4s\n",
            "[CV 3/5] END max_depth=55, min_samples_leaf=2, n_estimators=1000;, score=0.831 total time=   8.4s\n",
            "[CV 4/5] END max_depth=55, min_samples_leaf=2, n_estimators=1000;, score=0.823 total time=   8.4s\n",
            "[CV 5/5] END max_depth=55, min_samples_leaf=2, n_estimators=1000;, score=0.817 total time=   8.4s\n",
            "[CV 1/5] END max_depth=55, min_samples_leaf=4, n_estimators=200;, score=0.769 total time=   1.5s\n",
            "[CV 2/5] END max_depth=55, min_samples_leaf=4, n_estimators=200;, score=0.778 total time=   1.5s\n",
            "[CV 3/5] END max_depth=55, min_samples_leaf=4, n_estimators=200;, score=0.769 total time=   1.5s\n",
            "[CV 4/5] END max_depth=55, min_samples_leaf=4, n_estimators=200;, score=0.752 total time=   1.5s\n",
            "[CV 5/5] END max_depth=55, min_samples_leaf=4, n_estimators=200;, score=0.760 total time=   1.5s\n",
            "[CV 1/5] END max_depth=55, min_samples_leaf=4, n_estimators=400;, score=0.771 total time=   2.9s\n",
            "[CV 2/5] END max_depth=55, min_samples_leaf=4, n_estimators=400;, score=0.788 total time=   3.0s\n",
            "[CV 3/5] END max_depth=55, min_samples_leaf=4, n_estimators=400;, score=0.773 total time=   3.0s\n",
            "[CV 4/5] END max_depth=55, min_samples_leaf=4, n_estimators=400;, score=0.748 total time=   3.0s\n",
            "[CV 5/5] END max_depth=55, min_samples_leaf=4, n_estimators=400;, score=0.744 total time=   3.0s\n",
            "[CV 1/5] END max_depth=55, min_samples_leaf=4, n_estimators=600;, score=0.761 total time=   4.4s\n",
            "[CV 2/5] END max_depth=55, min_samples_leaf=4, n_estimators=600;, score=0.775 total time=   4.4s\n",
            "[CV 3/5] END max_depth=55, min_samples_leaf=4, n_estimators=600;, score=0.775 total time=   4.5s\n",
            "[CV 4/5] END max_depth=55, min_samples_leaf=4, n_estimators=600;, score=0.758 total time=   4.5s\n",
            "[CV 5/5] END max_depth=55, min_samples_leaf=4, n_estimators=600;, score=0.756 total time=   4.5s\n",
            "[CV 1/5] END max_depth=55, min_samples_leaf=4, n_estimators=800;, score=0.773 total time=   6.0s\n",
            "[CV 2/5] END max_depth=55, min_samples_leaf=4, n_estimators=800;, score=0.784 total time=   6.0s\n",
            "[CV 3/5] END max_depth=55, min_samples_leaf=4, n_estimators=800;, score=0.771 total time=   6.3s\n",
            "[CV 4/5] END max_depth=55, min_samples_leaf=4, n_estimators=800;, score=0.748 total time=   7.7s\n",
            "[CV 5/5] END max_depth=55, min_samples_leaf=4, n_estimators=800;, score=0.769 total time=   6.2s\n",
            "[CV 1/5] END max_depth=55, min_samples_leaf=4, n_estimators=1000;, score=0.763 total time=   7.7s\n",
            "[CV 2/5] END max_depth=55, min_samples_leaf=4, n_estimators=1000;, score=0.769 total time=   7.5s\n",
            "[CV 3/5] END max_depth=55, min_samples_leaf=4, n_estimators=1000;, score=0.777 total time=   7.7s\n",
            "[CV 4/5] END max_depth=55, min_samples_leaf=4, n_estimators=1000;, score=0.748 total time=   7.6s\n",
            "[CV 5/5] END max_depth=55, min_samples_leaf=4, n_estimators=1000;, score=0.750 total time=   7.6s\n",
            "[CV 1/5] END max_depth=77, min_samples_leaf=1, n_estimators=200;, score=0.819 total time=   2.7s\n",
            "[CV 2/5] END max_depth=77, min_samples_leaf=1, n_estimators=200;, score=0.809 total time=   2.7s\n",
            "[CV 3/5] END max_depth=77, min_samples_leaf=1, n_estimators=200;, score=0.815 total time=   2.7s\n",
            "[CV 4/5] END max_depth=77, min_samples_leaf=1, n_estimators=200;, score=0.812 total time=   2.7s\n",
            "[CV 5/5] END max_depth=77, min_samples_leaf=1, n_estimators=200;, score=0.808 total time=   2.7s\n",
            "[CV 1/5] END max_depth=77, min_samples_leaf=1, n_estimators=400;, score=0.813 total time=   5.4s\n",
            "[CV 2/5] END max_depth=77, min_samples_leaf=1, n_estimators=400;, score=0.823 total time=   5.3s\n",
            "[CV 3/5] END max_depth=77, min_samples_leaf=1, n_estimators=400;, score=0.810 total time=   5.3s\n",
            "[CV 4/5] END max_depth=77, min_samples_leaf=1, n_estimators=400;, score=0.808 total time=   5.4s\n",
            "[CV 5/5] END max_depth=77, min_samples_leaf=1, n_estimators=400;, score=0.817 total time=   5.3s\n",
            "[CV 1/5] END max_depth=77, min_samples_leaf=1, n_estimators=600;, score=0.805 total time=   8.3s\n",
            "[CV 2/5] END max_depth=77, min_samples_leaf=1, n_estimators=600;, score=0.821 total time=   8.1s\n",
            "[CV 3/5] END max_depth=77, min_samples_leaf=1, n_estimators=600;, score=0.810 total time=   8.0s\n",
            "[CV 4/5] END max_depth=77, min_samples_leaf=1, n_estimators=600;, score=0.810 total time=   8.1s\n",
            "[CV 5/5] END max_depth=77, min_samples_leaf=1, n_estimators=600;, score=0.819 total time=   8.0s\n",
            "[CV 1/5] END max_depth=77, min_samples_leaf=1, n_estimators=800;, score=0.819 total time=  10.7s\n",
            "[CV 2/5] END max_depth=77, min_samples_leaf=1, n_estimators=800;, score=0.838 total time=  10.7s\n",
            "[CV 3/5] END max_depth=77, min_samples_leaf=1, n_estimators=800;, score=0.810 total time=  10.6s\n",
            "[CV 4/5] END max_depth=77, min_samples_leaf=1, n_estimators=800;, score=0.806 total time=  10.8s\n",
            "[CV 5/5] END max_depth=77, min_samples_leaf=1, n_estimators=800;, score=0.802 total time=  10.6s\n",
            "[CV 1/5] END max_depth=77, min_samples_leaf=1, n_estimators=1000;, score=0.815 total time=  13.5s\n",
            "[CV 2/5] END max_depth=77, min_samples_leaf=1, n_estimators=1000;, score=0.821 total time=  13.3s\n",
            "[CV 3/5] END max_depth=77, min_samples_leaf=1, n_estimators=1000;, score=0.817 total time=  13.4s\n",
            "[CV 4/5] END max_depth=77, min_samples_leaf=1, n_estimators=1000;, score=0.806 total time=  13.5s\n",
            "[CV 5/5] END max_depth=77, min_samples_leaf=1, n_estimators=1000;, score=0.812 total time=  13.3s\n",
            "[CV 1/5] END max_depth=77, min_samples_leaf=2, n_estimators=200;, score=0.840 total time=   2.1s\n",
            "[CV 2/5] END max_depth=77, min_samples_leaf=2, n_estimators=200;, score=0.825 total time=   2.1s\n",
            "[CV 3/5] END max_depth=77, min_samples_leaf=2, n_estimators=200;, score=0.835 total time=   2.1s\n",
            "[CV 4/5] END max_depth=77, min_samples_leaf=2, n_estimators=200;, score=0.808 total time=   2.1s\n",
            "[CV 5/5] END max_depth=77, min_samples_leaf=2, n_estimators=200;, score=0.806 total time=   2.1s\n",
            "[CV 1/5] END max_depth=77, min_samples_leaf=2, n_estimators=400;, score=0.832 total time=   4.2s\n",
            "[CV 2/5] END max_depth=77, min_samples_leaf=2, n_estimators=400;, score=0.819 total time=   4.2s\n",
            "[CV 3/5] END max_depth=77, min_samples_leaf=2, n_estimators=400;, score=0.833 total time=   4.2s\n",
            "[CV 4/5] END max_depth=77, min_samples_leaf=2, n_estimators=400;, score=0.810 total time=   4.2s\n",
            "[CV 5/5] END max_depth=77, min_samples_leaf=2, n_estimators=400;, score=0.812 total time=   4.2s\n",
            "[CV 1/5] END max_depth=77, min_samples_leaf=2, n_estimators=600;, score=0.832 total time=   6.2s\n",
            "[CV 2/5] END max_depth=77, min_samples_leaf=2, n_estimators=600;, score=0.823 total time=   6.2s\n",
            "[CV 3/5] END max_depth=77, min_samples_leaf=2, n_estimators=600;, score=0.838 total time=   6.2s\n",
            "[CV 4/5] END max_depth=77, min_samples_leaf=2, n_estimators=600;, score=0.815 total time=   6.2s\n",
            "[CV 5/5] END max_depth=77, min_samples_leaf=2, n_estimators=600;, score=0.819 total time=   6.2s\n",
            "[CV 1/5] END max_depth=77, min_samples_leaf=2, n_estimators=800;, score=0.834 total time=   8.2s\n",
            "[CV 2/5] END max_depth=77, min_samples_leaf=2, n_estimators=800;, score=0.827 total time=   8.2s\n",
            "[CV 3/5] END max_depth=77, min_samples_leaf=2, n_estimators=800;, score=0.835 total time=   8.3s\n",
            "[CV 4/5] END max_depth=77, min_samples_leaf=2, n_estimators=800;, score=0.815 total time=   8.3s\n",
            "[CV 5/5] END max_depth=77, min_samples_leaf=2, n_estimators=800;, score=0.821 total time=   8.2s\n",
            "[CV 1/5] END max_depth=77, min_samples_leaf=2, n_estimators=1000;, score=0.834 total time=  10.3s\n",
            "[CV 2/5] END max_depth=77, min_samples_leaf=2, n_estimators=1000;, score=0.825 total time=  10.2s\n",
            "[CV 3/5] END max_depth=77, min_samples_leaf=2, n_estimators=1000;, score=0.838 total time=  10.4s\n",
            "[CV 4/5] END max_depth=77, min_samples_leaf=2, n_estimators=1000;, score=0.817 total time=  10.3s\n",
            "[CV 5/5] END max_depth=77, min_samples_leaf=2, n_estimators=1000;, score=0.806 total time=  10.4s\n",
            "[CV 1/5] END max_depth=77, min_samples_leaf=4, n_estimators=200;, score=0.757 total time=   1.6s\n",
            "[CV 2/5] END max_depth=77, min_samples_leaf=4, n_estimators=200;, score=0.778 total time=   1.6s\n",
            "[CV 3/5] END max_depth=77, min_samples_leaf=4, n_estimators=200;, score=0.767 total time=   1.7s\n",
            "[CV 4/5] END max_depth=77, min_samples_leaf=4, n_estimators=200;, score=0.752 total time=   1.6s\n",
            "[CV 5/5] END max_depth=77, min_samples_leaf=4, n_estimators=200;, score=0.748 total time=   1.6s\n",
            "[CV 1/5] END max_depth=77, min_samples_leaf=4, n_estimators=400;, score=0.757 total time=   3.2s\n",
            "[CV 2/5] END max_depth=77, min_samples_leaf=4, n_estimators=400;, score=0.780 total time=   3.1s\n",
            "[CV 3/5] END max_depth=77, min_samples_leaf=4, n_estimators=400;, score=0.762 total time=   3.3s\n",
            "[CV 4/5] END max_depth=77, min_samples_leaf=4, n_estimators=400;, score=0.748 total time=   3.2s\n",
            "[CV 5/5] END max_depth=77, min_samples_leaf=4, n_estimators=400;, score=0.748 total time=   3.2s\n",
            "[CV 1/5] END max_depth=77, min_samples_leaf=4, n_estimators=600;, score=0.759 total time=   4.9s\n",
            "[CV 2/5] END max_depth=77, min_samples_leaf=4, n_estimators=600;, score=0.782 total time=   4.9s\n",
            "[CV 3/5] END max_depth=77, min_samples_leaf=4, n_estimators=600;, score=0.762 total time=   4.9s\n",
            "[CV 4/5] END max_depth=77, min_samples_leaf=4, n_estimators=600;, score=0.754 total time=   4.9s\n",
            "[CV 5/5] END max_depth=77, min_samples_leaf=4, n_estimators=600;, score=0.746 total time=   4.9s\n",
            "[CV 1/5] END max_depth=77, min_samples_leaf=4, n_estimators=800;, score=0.763 total time=   6.4s\n",
            "[CV 2/5] END max_depth=77, min_samples_leaf=4, n_estimators=800;, score=0.782 total time=   6.3s\n",
            "[CV 3/5] END max_depth=77, min_samples_leaf=4, n_estimators=800;, score=0.771 total time=   6.6s\n",
            "[CV 4/5] END max_depth=77, min_samples_leaf=4, n_estimators=800;, score=0.750 total time=   6.5s\n",
            "[CV 5/5] END max_depth=77, min_samples_leaf=4, n_estimators=800;, score=0.762 total time=   6.4s\n",
            "[CV 1/5] END max_depth=77, min_samples_leaf=4, n_estimators=1000;, score=0.763 total time=   7.9s\n",
            "[CV 2/5] END max_depth=77, min_samples_leaf=4, n_estimators=1000;, score=0.775 total time=   7.9s\n",
            "[CV 3/5] END max_depth=77, min_samples_leaf=4, n_estimators=1000;, score=0.765 total time=   8.2s\n",
            "[CV 4/5] END max_depth=77, min_samples_leaf=4, n_estimators=1000;, score=0.756 total time=   8.0s\n",
            "[CV 5/5] END max_depth=77, min_samples_leaf=4, n_estimators=1000;, score=0.758 total time=   8.0s\n",
            "[CV 1/5] END max_depth=100, min_samples_leaf=1, n_estimators=200;, score=0.823 total time=   3.2s\n",
            "[CV 2/5] END max_depth=100, min_samples_leaf=1, n_estimators=200;, score=0.813 total time=   3.1s\n",
            "[CV 3/5] END max_depth=100, min_samples_leaf=1, n_estimators=200;, score=0.808 total time=   3.1s\n",
            "[CV 4/5] END max_depth=100, min_samples_leaf=1, n_estimators=200;, score=0.806 total time=   3.1s\n",
            "[CV 5/5] END max_depth=100, min_samples_leaf=1, n_estimators=200;, score=0.810 total time=   3.1s\n",
            "[CV 1/5] END max_depth=100, min_samples_leaf=1, n_estimators=400;, score=0.821 total time=   6.2s\n",
            "[CV 2/5] END max_depth=100, min_samples_leaf=1, n_estimators=400;, score=0.802 total time=   6.2s\n",
            "[CV 3/5] END max_depth=100, min_samples_leaf=1, n_estimators=400;, score=0.825 total time=   6.2s\n",
            "[CV 4/5] END max_depth=100, min_samples_leaf=1, n_estimators=400;, score=0.806 total time=   6.3s\n",
            "[CV 5/5] END max_depth=100, min_samples_leaf=1, n_estimators=400;, score=0.815 total time=   6.2s\n",
            "[CV 1/5] END max_depth=100, min_samples_leaf=1, n_estimators=600;, score=0.830 total time=   9.4s\n",
            "[CV 2/5] END max_depth=100, min_samples_leaf=1, n_estimators=600;, score=0.825 total time=   9.3s\n",
            "[CV 3/5] END max_depth=100, min_samples_leaf=1, n_estimators=600;, score=0.815 total time=   9.4s\n",
            "[CV 4/5] END max_depth=100, min_samples_leaf=1, n_estimators=600;, score=0.804 total time=   9.4s\n",
            "[CV 5/5] END max_depth=100, min_samples_leaf=1, n_estimators=600;, score=0.815 total time=   9.2s\n",
            "[CV 1/5] END max_depth=100, min_samples_leaf=1, n_estimators=800;, score=0.827 total time=  12.5s\n",
            "[CV 2/5] END max_depth=100, min_samples_leaf=1, n_estimators=800;, score=0.821 total time=  12.3s\n",
            "[CV 3/5] END max_depth=100, min_samples_leaf=1, n_estimators=800;, score=0.808 total time=  12.3s\n",
            "[CV 4/5] END max_depth=100, min_samples_leaf=1, n_estimators=800;, score=0.810 total time=  12.5s\n",
            "[CV 5/5] END max_depth=100, min_samples_leaf=1, n_estimators=800;, score=0.808 total time=  12.3s\n",
            "[CV 1/5] END max_depth=100, min_samples_leaf=1, n_estimators=1000;, score=0.823 total time=  15.7s\n",
            "[CV 2/5] END max_depth=100, min_samples_leaf=1, n_estimators=1000;, score=0.809 total time=  15.8s\n",
            "[CV 3/5] END max_depth=100, min_samples_leaf=1, n_estimators=1000;, score=0.825 total time=  15.5s\n",
            "[CV 4/5] END max_depth=100, min_samples_leaf=1, n_estimators=1000;, score=0.812 total time=  15.7s\n",
            "[CV 5/5] END max_depth=100, min_samples_leaf=1, n_estimators=1000;, score=0.808 total time=  15.5s\n",
            "[CV 1/5] END max_depth=100, min_samples_leaf=2, n_estimators=200;, score=0.830 total time=   2.3s\n",
            "[CV 2/5] END max_depth=100, min_samples_leaf=2, n_estimators=200;, score=0.819 total time=   2.3s\n",
            "[CV 3/5] END max_depth=100, min_samples_leaf=2, n_estimators=200;, score=0.842 total time=   2.4s\n",
            "[CV 4/5] END max_depth=100, min_samples_leaf=2, n_estimators=200;, score=0.812 total time=   2.3s\n",
            "[CV 5/5] END max_depth=100, min_samples_leaf=2, n_estimators=200;, score=0.831 total time=   2.3s\n",
            "[CV 1/5] END max_depth=100, min_samples_leaf=2, n_estimators=400;, score=0.838 total time=   4.7s\n",
            "[CV 2/5] END max_depth=100, min_samples_leaf=2, n_estimators=400;, score=0.827 total time=   4.7s\n",
            "[CV 3/5] END max_depth=100, min_samples_leaf=2, n_estimators=400;, score=0.829 total time=   4.7s\n",
            "[CV 4/5] END max_depth=100, min_samples_leaf=2, n_estimators=400;, score=0.827 total time=   4.7s\n",
            "[CV 5/5] END max_depth=100, min_samples_leaf=2, n_estimators=400;, score=0.819 total time=   4.7s\n",
            "[CV 1/5] END max_depth=100, min_samples_leaf=2, n_estimators=600;, score=0.830 total time=   7.0s\n",
            "[CV 2/5] END max_depth=100, min_samples_leaf=2, n_estimators=600;, score=0.817 total time=   6.9s\n",
            "[CV 3/5] END max_depth=100, min_samples_leaf=2, n_estimators=600;, score=0.835 total time=   7.1s\n",
            "[CV 4/5] END max_depth=100, min_samples_leaf=2, n_estimators=600;, score=0.833 total time=   7.0s\n",
            "[CV 5/5] END max_depth=100, min_samples_leaf=2, n_estimators=600;, score=0.815 total time=   7.0s\n",
            "[CV 1/5] END max_depth=100, min_samples_leaf=2, n_estimators=800;, score=0.832 total time=   9.4s\n",
            "[CV 2/5] END max_depth=100, min_samples_leaf=2, n_estimators=800;, score=0.827 total time=   9.3s\n",
            "[CV 3/5] END max_depth=100, min_samples_leaf=2, n_estimators=800;, score=0.840 total time=   9.4s\n",
            "[CV 4/5] END max_depth=100, min_samples_leaf=2, n_estimators=800;, score=0.829 total time=   9.4s\n",
            "[CV 5/5] END max_depth=100, min_samples_leaf=2, n_estimators=800;, score=0.823 total time=   9.3s\n",
            "[CV 1/5] END max_depth=100, min_samples_leaf=2, n_estimators=1000;, score=0.838 total time=  11.7s\n",
            "[CV 2/5] END max_depth=100, min_samples_leaf=2, n_estimators=1000;, score=0.821 total time=  11.7s\n",
            "[CV 3/5] END max_depth=100, min_samples_leaf=2, n_estimators=1000;, score=0.835 total time=  11.7s\n",
            "[CV 4/5] END max_depth=100, min_samples_leaf=2, n_estimators=1000;, score=0.823 total time=  11.6s\n",
            "[CV 5/5] END max_depth=100, min_samples_leaf=2, n_estimators=1000;, score=0.819 total time=  11.7s\n",
            "[CV 1/5] END max_depth=100, min_samples_leaf=4, n_estimators=200;, score=0.755 total time=   1.6s\n",
            "[CV 2/5] END max_depth=100, min_samples_leaf=4, n_estimators=200;, score=0.775 total time=   1.6s\n",
            "[CV 3/5] END max_depth=100, min_samples_leaf=4, n_estimators=200;, score=0.765 total time=   1.6s\n",
            "[CV 4/5] END max_depth=100, min_samples_leaf=4, n_estimators=200;, score=0.756 total time=   1.6s\n",
            "[CV 5/5] END max_depth=100, min_samples_leaf=4, n_estimators=200;, score=0.740 total time=   1.7s\n",
            "[CV 1/5] END max_depth=100, min_samples_leaf=4, n_estimators=400;, score=0.759 total time=   3.2s\n",
            "[CV 2/5] END max_depth=100, min_samples_leaf=4, n_estimators=400;, score=0.780 total time=   3.2s\n",
            "[CV 3/5] END max_depth=100, min_samples_leaf=4, n_estimators=400;, score=0.758 total time=   3.3s\n",
            "[CV 4/5] END max_depth=100, min_samples_leaf=4, n_estimators=400;, score=0.756 total time=   3.3s\n",
            "[CV 5/5] END max_depth=100, min_samples_leaf=4, n_estimators=400;, score=0.756 total time=   3.3s\n",
            "[CV 1/5] END max_depth=100, min_samples_leaf=4, n_estimators=600;, score=0.759 total time=   4.9s\n",
            "[CV 2/5] END max_depth=100, min_samples_leaf=4, n_estimators=600;, score=0.773 total time=   4.7s\n",
            "[CV 3/5] END max_depth=100, min_samples_leaf=4, n_estimators=600;, score=0.756 total time=   4.9s\n",
            "[CV 4/5] END max_depth=100, min_samples_leaf=4, n_estimators=600;, score=0.754 total time=   4.9s\n",
            "[CV 5/5] END max_depth=100, min_samples_leaf=4, n_estimators=600;, score=0.756 total time=   4.8s\n",
            "[CV 1/5] END max_depth=100, min_samples_leaf=4, n_estimators=800;, score=0.757 total time=   6.5s\n",
            "[CV 2/5] END max_depth=100, min_samples_leaf=4, n_estimators=800;, score=0.780 total time=   6.4s\n",
            "[CV 3/5] END max_depth=100, min_samples_leaf=4, n_estimators=800;, score=0.762 total time=   6.7s\n",
            "[CV 4/5] END max_depth=100, min_samples_leaf=4, n_estimators=800;, score=0.746 total time=   6.5s\n",
            "[CV 5/5] END max_depth=100, min_samples_leaf=4, n_estimators=800;, score=0.742 total time=   6.6s\n",
            "[CV 1/5] END max_depth=100, min_samples_leaf=4, n_estimators=1000;, score=0.763 total time=   8.3s\n",
            "[CV 2/5] END max_depth=100, min_samples_leaf=4, n_estimators=1000;, score=0.782 total time=   8.0s\n",
            "[CV 3/5] END max_depth=100, min_samples_leaf=4, n_estimators=1000;, score=0.762 total time=   8.2s\n",
            "[CV 4/5] END max_depth=100, min_samples_leaf=4, n_estimators=1000;, score=0.756 total time=   8.1s\n",
            "[CV 5/5] END max_depth=100, min_samples_leaf=4, n_estimators=1000;, score=0.754 total time=   8.2s\n",
            "[CV 1/5] END max_depth=None, min_samples_leaf=1, n_estimators=200;, score=0.827 total time=   4.5s\n",
            "[CV 2/5] END max_depth=None, min_samples_leaf=1, n_estimators=200;, score=0.805 total time=   4.4s\n",
            "[CV 3/5] END max_depth=None, min_samples_leaf=1, n_estimators=200;, score=0.810 total time=   4.4s\n",
            "[CV 4/5] END max_depth=None, min_samples_leaf=1, n_estimators=200;, score=0.794 total time=   4.4s\n",
            "[CV 5/5] END max_depth=None, min_samples_leaf=1, n_estimators=200;, score=0.796 total time=   4.4s\n",
            "[CV 1/5] END max_depth=None, min_samples_leaf=1, n_estimators=400;, score=0.830 total time=   8.9s\n",
            "[CV 2/5] END max_depth=None, min_samples_leaf=1, n_estimators=400;, score=0.790 total time=   8.8s\n",
            "[CV 3/5] END max_depth=None, min_samples_leaf=1, n_estimators=400;, score=0.804 total time=   8.7s\n",
            "[CV 4/5] END max_depth=None, min_samples_leaf=1, n_estimators=400;, score=0.796 total time=   8.9s\n",
            "[CV 5/5] END max_depth=None, min_samples_leaf=1, n_estimators=400;, score=0.804 total time=   8.8s\n",
            "[CV 1/5] END max_depth=None, min_samples_leaf=1, n_estimators=600;, score=0.834 total time=  13.3s\n",
            "[CV 2/5] END max_depth=None, min_samples_leaf=1, n_estimators=600;, score=0.800 total time=  13.1s\n",
            "[CV 3/5] END max_depth=None, min_samples_leaf=1, n_estimators=600;, score=0.817 total time=  13.2s\n",
            "[CV 4/5] END max_depth=None, min_samples_leaf=1, n_estimators=600;, score=0.798 total time=  13.4s\n",
            "[CV 5/5] END max_depth=None, min_samples_leaf=1, n_estimators=600;, score=0.802 total time=  13.3s\n",
            "[CV 1/5] END max_depth=None, min_samples_leaf=1, n_estimators=800;, score=0.830 total time=  17.9s\n",
            "[CV 2/5] END max_depth=None, min_samples_leaf=1, n_estimators=800;, score=0.786 total time=  17.6s\n",
            "[CV 3/5] END max_depth=None, min_samples_leaf=1, n_estimators=800;, score=0.810 total time=  17.6s\n",
            "[CV 4/5] END max_depth=None, min_samples_leaf=1, n_estimators=800;, score=0.792 total time=  17.8s\n",
            "[CV 5/5] END max_depth=None, min_samples_leaf=1, n_estimators=800;, score=0.804 total time=  17.7s\n",
            "[CV 1/5] END max_depth=None, min_samples_leaf=1, n_estimators=1000;, score=0.838 total time=  22.4s\n",
            "[CV 2/5] END max_depth=None, min_samples_leaf=1, n_estimators=1000;, score=0.792 total time=  22.1s\n",
            "[CV 3/5] END max_depth=None, min_samples_leaf=1, n_estimators=1000;, score=0.810 total time=  22.0s\n",
            "[CV 4/5] END max_depth=None, min_samples_leaf=1, n_estimators=1000;, score=0.798 total time=  22.3s\n",
            "[CV 5/5] END max_depth=None, min_samples_leaf=1, n_estimators=1000;, score=0.792 total time=  22.0s\n",
            "[CV 1/5] END max_depth=None, min_samples_leaf=2, n_estimators=200;, score=0.836 total time=   2.7s\n",
            "[CV 2/5] END max_depth=None, min_samples_leaf=2, n_estimators=200;, score=0.821 total time=   2.7s\n",
            "[CV 3/5] END max_depth=None, min_samples_leaf=2, n_estimators=200;, score=0.844 total time=   2.7s\n",
            "[CV 4/5] END max_depth=None, min_samples_leaf=2, n_estimators=200;, score=0.821 total time=   2.7s\n",
            "[CV 5/5] END max_depth=None, min_samples_leaf=2, n_estimators=200;, score=0.833 total time=   2.7s\n",
            "[CV 1/5] END max_depth=None, min_samples_leaf=2, n_estimators=400;, score=0.840 total time=   5.4s\n",
            "[CV 2/5] END max_depth=None, min_samples_leaf=2, n_estimators=400;, score=0.821 total time=   5.3s\n",
            "[CV 3/5] END max_depth=None, min_samples_leaf=2, n_estimators=400;, score=0.833 total time=   5.4s\n",
            "[CV 4/5] END max_depth=None, min_samples_leaf=2, n_estimators=400;, score=0.829 total time=   5.3s\n",
            "[CV 5/5] END max_depth=None, min_samples_leaf=2, n_estimators=400;, score=0.815 total time=   5.4s\n",
            "[CV 1/5] END max_depth=None, min_samples_leaf=2, n_estimators=600;, score=0.838 total time=   8.1s\n",
            "[CV 2/5] END max_depth=None, min_samples_leaf=2, n_estimators=600;, score=0.815 total time=   7.9s\n",
            "[CV 3/5] END max_depth=None, min_samples_leaf=2, n_estimators=600;, score=0.842 total time=   8.1s\n",
            "[CV 4/5] END max_depth=None, min_samples_leaf=2, n_estimators=600;, score=0.831 total time=   8.0s\n",
            "[CV 5/5] END max_depth=None, min_samples_leaf=2, n_estimators=600;, score=0.815 total time=   8.0s\n",
            "[CV 1/5] END max_depth=None, min_samples_leaf=2, n_estimators=800;, score=0.842 total time=  10.7s\n",
            "[CV 2/5] END max_depth=None, min_samples_leaf=2, n_estimators=800;, score=0.821 total time=  10.6s\n",
            "[CV 3/5] END max_depth=None, min_samples_leaf=2, n_estimators=800;, score=0.838 total time=  10.7s\n",
            "[CV 4/5] END max_depth=None, min_samples_leaf=2, n_estimators=800;, score=0.838 total time=  10.7s\n",
            "[CV 5/5] END max_depth=None, min_samples_leaf=2, n_estimators=800;, score=0.825 total time=  10.7s\n",
            "[CV 1/5] END max_depth=None, min_samples_leaf=2, n_estimators=1000;, score=0.840 total time=  13.4s\n",
            "[CV 2/5] END max_depth=None, min_samples_leaf=2, n_estimators=1000;, score=0.830 total time=  13.3s\n",
            "[CV 3/5] END max_depth=None, min_samples_leaf=2, n_estimators=1000;, score=0.842 total time=  13.7s\n",
            "[CV 4/5] END max_depth=None, min_samples_leaf=2, n_estimators=1000;, score=0.827 total time=  13.2s\n",
            "[CV 5/5] END max_depth=None, min_samples_leaf=2, n_estimators=1000;, score=0.821 total time=  13.3s\n",
            "[CV 1/5] END max_depth=None, min_samples_leaf=4, n_estimators=200;, score=0.757 total time=   1.7s\n",
            "[CV 2/5] END max_depth=None, min_samples_leaf=4, n_estimators=200;, score=0.778 total time=   1.6s\n",
            "[CV 3/5] END max_depth=None, min_samples_leaf=4, n_estimators=200;, score=0.767 total time=   1.7s\n",
            "[CV 4/5] END max_depth=None, min_samples_leaf=4, n_estimators=200;, score=0.767 total time=   1.7s\n",
            "[CV 5/5] END max_depth=None, min_samples_leaf=4, n_estimators=200;, score=0.752 total time=   1.7s\n",
            "[CV 1/5] END max_depth=None, min_samples_leaf=4, n_estimators=400;, score=0.755 total time=   3.2s\n",
            "[CV 2/5] END max_depth=None, min_samples_leaf=4, n_estimators=400;, score=0.775 total time=   3.2s\n",
            "[CV 3/5] END max_depth=None, min_samples_leaf=4, n_estimators=400;, score=0.769 total time=   3.3s\n",
            "[CV 4/5] END max_depth=None, min_samples_leaf=4, n_estimators=400;, score=0.748 total time=   3.3s\n",
            "[CV 5/5] END max_depth=None, min_samples_leaf=4, n_estimators=400;, score=0.746 total time=   3.3s\n",
            "[CV 1/5] END max_depth=None, min_samples_leaf=4, n_estimators=600;, score=0.757 total time=   4.9s\n",
            "[CV 2/5] END max_depth=None, min_samples_leaf=4, n_estimators=600;, score=0.775 total time=   4.8s\n",
            "[CV 3/5] END max_depth=None, min_samples_leaf=4, n_estimators=600;, score=0.771 total time=   5.0s\n",
            "[CV 4/5] END max_depth=None, min_samples_leaf=4, n_estimators=600;, score=0.748 total time=   4.9s\n",
            "[CV 5/5] END max_depth=None, min_samples_leaf=4, n_estimators=600;, score=0.752 total time=   4.9s\n",
            "[CV 1/5] END max_depth=None, min_samples_leaf=4, n_estimators=800;, score=0.763 total time=   6.5s\n",
            "[CV 2/5] END max_depth=None, min_samples_leaf=4, n_estimators=800;, score=0.780 total time=   6.5s\n",
            "[CV 3/5] END max_depth=None, min_samples_leaf=4, n_estimators=800;, score=0.779 total time=   6.6s\n",
            "[CV 4/5] END max_depth=None, min_samples_leaf=4, n_estimators=800;, score=0.756 total time=   6.5s\n",
            "[CV 5/5] END max_depth=None, min_samples_leaf=4, n_estimators=800;, score=0.754 total time=   6.5s\n",
            "[CV 1/5] END max_depth=None, min_samples_leaf=4, n_estimators=1000;, score=0.763 total time=   8.2s\n",
            "[CV 2/5] END max_depth=None, min_samples_leaf=4, n_estimators=1000;, score=0.773 total time=   8.0s\n",
            "[CV 3/5] END max_depth=None, min_samples_leaf=4, n_estimators=1000;, score=0.769 total time=   8.3s\n",
            "[CV 4/5] END max_depth=None, min_samples_leaf=4, n_estimators=1000;, score=0.752 total time=   8.2s\n",
            "[CV 5/5] END max_depth=None, min_samples_leaf=4, n_estimators=1000;, score=0.752 total time=   8.3s\n",
            "Accuracy for RF GS: 0.8679611650485437\n",
            "Precision for RF GS: 0.8692408130156967\n"
          ]
        }
      ],
      "source": [
        "# Number of trees in random forest\n",
        "n_estimators = [int(x) for x in np.linspace(start = 200, stop = 1000, num = 5)]\n",
        "# Maximum number of levels in tree\n",
        "max_depth = [int(x) for x in np.linspace(10, 100, num = 5)]\n",
        "max_depth.append(None)\n",
        "# Minimum number of samples required to split a node\n",
        "#min_samples_split = [2, 5, 10]\n",
        "# Minimum number of samples required at each leaf node\n",
        "min_samples_leaf = [1, 2, 4]\n",
        "# Create the random grid\n",
        "random_grid = {'n_estimators': n_estimators,'max_depth': max_depth,'min_samples_leaf': min_samples_leaf}\n",
        "grid_search = GridSearchCV(RandomForestClassifier(), random_grid, refit = True, verbose = 3)\n",
        "grid_search.fit(X_train_dtm, y_train)\n",
        "                \n",
        "model_rf_gs = RandomForestClassifier(**grid_search.best_params_)\n",
        "model_rf_gs.fit(X_train_dtm, y_train)\n",
        "\n",
        "print(\"Best parameters: {}\".format(grid_search.best_params_))\n",
        "\n",
        "y_pred_f = model_rf_gs.predict(X_test_dtm)\n",
        "print('Accuracy for RF GS:',accuracy_score(y_test, y_pred_f))\n",
        "print(\"Precision for RF GS:\",metrics.precision_score(y_test, y_pred_f,average='weighted'))\n"
      ]
    },
    {
      "cell_type": "code",
      "source": [
        "knn = KNeighborsClassifier()\n",
        "k_range = list(range(1, 61))\n",
        "param_grid = dict(n_neighbors=k_range)\n",
        "  \n",
        "# defining parameter range\n",
        "grid = GridSearchCV(knn, param_grid, cv=10, scoring='accuracy', return_train_score=False,verbose=1)\n",
        "  \n",
        "# fitting the model for grid search\n",
        "grid_search=grid.fit(X_train_dtm, y_train)\n",
        "\n",
        "print(grid_search.best_params_)\n",
        "\n",
        "accuracy = grid_search.best_score_ *100\n",
        "print(\"Accuracy for our training dataset with tuning is : {:.2f}%\".format(accuracy) )\n",
        "\n",
        "model_knn_gs = KNeighborsClassifier(**grid_search.best_params_)\n",
        "model_knn_gs.fit(X_train_dtm, y_train)\n",
        "\n",
        "print(\"Best parameters: {}\".format(grid_search.best_params_))\n",
        "\n",
        "y_pred_f = model_knn_gs.predict(X_test_dtm)\n",
        "print('Accuracy for KNN GS:',accuracy_score(y_test, y_pred_f))\n",
        "print(\"Precision for KNN GS:\",metrics.precision_score(y_test, y_pred_f,average='weighted'))"
      ],
      "metadata": {
        "colab": {
          "base_uri": "https://localhost:8080/"
        },
        "id": "vu-SmHlVVxrx",
        "outputId": "1555fdd1-7a35-4bea-fd80-6a956fe4b47f"
      },
      "execution_count": 35,
      "outputs": [
        {
          "output_type": "stream",
          "name": "stdout",
          "text": [
            "Fitting 10 folds for each of 60 candidates, totalling 600 fits\n",
            "{'n_neighbors': 3}\n",
            "Accuracy for our training dataset with tuning is : 37.38%\n",
            "Best parameters: {'n_neighbors': 3}\n",
            "Accuracy for KNN GS: 0.4077669902912621\n",
            "Precision for KNN GS: 0.4556902654306329\n"
          ]
        }
      ]
    },
    {
      "cell_type": "code",
      "source": [
        "dec_tree = DecisionTreeClassifier()\n",
        "max_depth_range=[5,7,9,11,13,15]\n",
        "tree_param = [{'criterion': ['entropy', 'gini'], 'max_depth': max_depth_range}]\n",
        "\n",
        "clf_GS = GridSearchCV(DecisionTreeClassifier(), tree_param, cv=3)\n",
        "clf_GS.fit(X_train_dtm, y_train)\n",
        "\n",
        "print('Best parameters:',clf_GS.best_params_)\n",
        "\n",
        "model_dt_gs = DecisionTreeClassifier(**clf_GS.best_params_)\n",
        "model_dt_gs.fit(X_train_dtm, y_train)\n",
        "\n",
        "y_pred_f = model_dt_gs.predict(X_test_dtm)\n",
        "print(\"Accuracy for SVM GS:\",metrics.accuracy_score(y_test, y_pred_f))\n",
        "print(\"Precision for SVM GS:\",metrics.precision_score(y_test, y_pred_f,average='weighted'))"
      ],
      "metadata": {
        "colab": {
          "base_uri": "https://localhost:8080/"
        },
        "id": "FC3Rfk6ehGD5",
        "outputId": "409ecbec-c09e-4977-efa2-337b6b3a296b"
      },
      "execution_count": 38,
      "outputs": [
        {
          "output_type": "stream",
          "name": "stdout",
          "text": [
            "Best parameters: {'criterion': 'entropy', 'max_depth': 15}\n",
            "Accuracy for SVM GS: 0.30970873786407765\n",
            "Precision for SVM GS: 0.37313924007491966\n"
          ]
        },
        {
          "output_type": "stream",
          "name": "stderr",
          "text": [
            "/usr/local/lib/python3.7/dist-packages/sklearn/metrics/_classification.py:1318: UndefinedMetricWarning: Precision is ill-defined and being set to 0.0 in labels with no predicted samples. Use `zero_division` parameter to control this behavior.\n",
            "  _warn_prf(average, modifier, msg_start, len(result))\n"
          ]
        }
      ]
    },
    {
      "cell_type": "markdown",
      "source": [
        "# **CONCLUSION**"
      ],
      "metadata": {
        "id": "mlbvuKD3WD30"
      }
    },
    {
      "cell_type": "markdown",
      "source": [
        "in conclusion to the above analysis and data modelling we finally arrive to the fact that after cleaning up the data and trying various models the best model that solves our business issue is the Random Forest model."
      ],
      "metadata": {
        "id": "k2sJdX54WG26"
      }
    }
  ],
  "metadata": {
    "colab": {
      "collapsed_sections": [
        "18WTf_aORMMo",
        "_NbMBeOlRTHE",
        "Xsdpa7nHRaEY",
        "u1sO-hB9RiNw",
        "AYyOxH52RoiL",
        "MpxeQVbmRysN",
        "Smr4AJuWR2gu",
        "TSdrfQQcR8HU",
        "mlbvuKD3WD30"
      ],
      "name": "chaitanya_aml_project.ipynb",
      "provenance": []
    },
    "kernelspec": {
      "display_name": "Python 3",
      "name": "python3"
    },
    "language_info": {
      "name": "python"
    }
  },
  "nbformat": 4,
  "nbformat_minor": 0
}